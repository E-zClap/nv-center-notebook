{
 "cells": [
  {
   "cell_type": "markdown",
   "id": "5f34d1b8",
   "metadata": {},
   "source": [
    "# Nitrogen-Vacancy Center in Diamond Visualization\n",
    "\n",
    "This notebook creates an interactive 3D visualization of an NV center in diamond lattice. An NV center consists of a nitrogen atom adjacent to a vacancy in the diamond crystal structure. These defects are important in quantum sensing and quantum computing applications.\n",
    "\n",
    "## Overview\n",
    "1. Create a diamond lattice structure\n",
    "2. Identify bonds between atoms\n",
    "3. Create an NV center by replacing one carbon with nitrogen and creating a vacancy\n",
    "4. Visualize the structure in 3D with fully interactive controls"
   ]
  },
  {
   "cell_type": "code",
   "execution_count": 30,
   "id": "0c0c0f81",
   "metadata": {},
   "outputs": [],
   "source": [
    "# Import required libraries\n",
    "import numpy as np\n",
    "import plotly.graph_objects as go"
   ]
  },
  {
   "cell_type": "markdown",
   "id": "bfde8f7c",
   "metadata": {},
   "source": [
    "## Creating the Diamond Lattice Structure\n",
    "\n",
    "Diamond has a face-centered cubic (FCC) lattice with a basis of two carbon atoms. We'll create this structure first."
   ]
  },
  {
   "cell_type": "code",
   "execution_count": 31,
   "id": "6707051a",
   "metadata": {},
   "outputs": [],
   "source": [
    "def create_diamond_lattice(size=2):\n",
    "    \"\"\"Create a diamond lattice of given size.\"\"\"\n",
    "    # Diamond lattice constant in Angstroms\n",
    "    a = 3.57\n",
    "    \n",
    "    # Create the FCC lattice points\n",
    "    positions = []\n",
    "    for i in range(size):\n",
    "        for j in range(size):\n",
    "            for k in range(size):\n",
    "                # Add FCC lattice points\n",
    "                positions.append([i, j, k])\n",
    "                positions.append([i+0.5, j+0.5, k])\n",
    "                positions.append([i+0.5, j, k+0.5])\n",
    "                positions.append([i, j+0.5, k+0.5])\n",
    "    \n",
    "    # Add basis atoms\n",
    "    all_positions = []\n",
    "    for pos in positions:\n",
    "        # Original atom\n",
    "        all_positions.append(np.array(pos) * a)\n",
    "        # Basis atom - shift by (0.25, 0.25, 0.25)\n",
    "        all_positions.append((np.array(pos) + np.array([0.25, 0.25, 0.25])) * a)\n",
    "    \n",
    "    return np.array(all_positions)"
   ]
  },
  {
   "cell_type": "markdown",
   "id": "2819a094",
   "metadata": {},
   "source": [
    "## Identifying Bonds Between Atoms\n",
    "\n",
    "In the diamond structure, each carbon atom forms bonds with its four nearest neighbors. We'll identify these bonds by calculating distances between atoms."
   ]
  },
  {
   "cell_type": "code",
   "execution_count": 32,
   "id": "b0ed0d63",
   "metadata": {},
   "outputs": [],
   "source": [
    "def find_nearest_neighbors(positions, threshold=1.8):\n",
    "    \"\"\"Find pairs of atoms that are within threshold distance of each other.\"\"\"\n",
    "    bonds = []\n",
    "    for i in range(len(positions)):\n",
    "        for j in range(i+1, len(positions)):\n",
    "            dist = np.linalg.norm(positions[i] - positions[j])\n",
    "            if dist < threshold:\n",
    "                bonds.append((i, j))\n",
    "    return bonds"
   ]
  },
  {
   "cell_type": "markdown",
   "id": "9eca1d8e",
   "metadata": {},
   "source": [
    "## Creating the NV Center\n",
    "\n",
    "An NV center consists of a nitrogen atom substituting for a carbon atom, adjacent to a vacancy (missing carbon atom). We'll create this defect structure by modifying our diamond lattice."
   ]
  },
  {
   "cell_type": "code",
   "execution_count": 33,
   "id": "38e67b7a",
   "metadata": {},
   "outputs": [],
   "source": [
    "def create_nv_center(positions):\n",
    "    \"\"\"Create an NV center by replacing one atom with nitrogen and removing another.\"\"\"\n",
    "    # Choose a carbon atom near the center of the lattice\n",
    "    center = np.mean(positions, axis=0)\n",
    "    dists = [np.linalg.norm(pos - center) for pos in positions]\n",
    "    center_idx = np.argmin(dists)\n",
    "    \n",
    "    # Find nearest neighbors to the chosen atom\n",
    "    dists = [np.linalg.norm(positions[center_idx] - pos) for pos in positions]\n",
    "    neighbors = np.argsort(dists)[1:5]  # 4 nearest neighbors in diamond\n",
    "    \n",
    "    # Choose one neighbor to be the vacancy\n",
    "    vacancy_idx = neighbors[0]\n",
    "    \n",
    "    # Mark the atom types: 0 for carbon, 1 for nitrogen, -1 for vacancy\n",
    "    atom_types = np.zeros(len(positions), dtype=int)\n",
    "    atom_types[center_idx] = 1  # Nitrogen\n",
    "    atom_types[vacancy_idx] = -1  # Vacancy\n",
    "    \n",
    "    return atom_types, center_idx, vacancy_idx"
   ]
  },
  {
   "cell_type": "markdown",
   "id": "2110be7c",
   "metadata": {},
   "source": [
    "## Interactive 3D Visualization\n",
    "\n",
    "Below we create an interactive 3D model of the NV center that you can:\n",
    "- Rotate by clicking and dragging\n",
    "- Zoom with the scroll wheel\n",
    "- Pan by holding Shift while dragging\n",
    "- Reset the view by double-clicking\n",
    "\n",
    "This visualization uses Plotly for a fully interactive experience."
   ]
  },
  {
   "cell_type": "code",
   "execution_count": 34,
   "id": "3df43653",
   "metadata": {},
   "outputs": [],
   "source": [
    "def interactive_nv_center(positions, atom_types, bonds):\n",
    "    \"\"\"Create an interactive 3D visualization of the NV center using Plotly.\"\"\"\n",
    "    \n",
    "    # Define colors for different atom types\n",
    "    carbon_color = '#303030'     # Dark gray for carbon\n",
    "    nitrogen_color = '#E63946'   # Crimson red for nitrogen\n",
    "    vacancy_color = '#4361EE'    # Royal blue for vacancy\n",
    "    \n",
    "    # Separate positions by atom type\n",
    "    carbon_mask = atom_types == 0\n",
    "    nitrogen_mask = atom_types == 1\n",
    "    vacancy_mask = atom_types == -1\n",
    "    \n",
    "    carbon_positions = positions[carbon_mask]\n",
    "    nitrogen_pos = positions[nitrogen_mask][0]\n",
    "    vacancy_pos = positions[vacancy_mask][0]\n",
    "    \n",
    "    # Create figure\n",
    "    fig = go.Figure()\n",
    "    \n",
    "    # Add carbon atoms\n",
    "    fig.add_trace(go.Scatter3d(\n",
    "        x=carbon_positions[:, 0],\n",
    "        y=carbon_positions[:, 1],\n",
    "        z=carbon_positions[:, 2],\n",
    "        mode='markers',\n",
    "        marker=dict(\n",
    "            size=10,\n",
    "            color=carbon_color,\n",
    "            opacity=0.9,\n",
    "            line=dict(color='#606060', width=1)\n",
    "        ),\n",
    "        name='Carbon'\n",
    "    ))\n",
    "    \n",
    "    # Add nitrogen atom\n",
    "    fig.add_trace(go.Scatter3d(\n",
    "        x=[nitrogen_pos[0]],\n",
    "        y=[nitrogen_pos[1]],\n",
    "        z=[nitrogen_pos[2]],\n",
    "        mode='markers',\n",
    "        marker=dict(\n",
    "            size=12,\n",
    "            color=nitrogen_color,\n",
    "            opacity=1.0,\n",
    "            line=dict(color='#C1121F', width=1),\n",
    "            symbol='circle'\n",
    "        ),\n",
    "        name='Nitrogen'\n",
    "    ))\n",
    "    \n",
    "    # Add vacancy\n",
    "    fig.add_trace(go.Scatter3d(\n",
    "        x=[vacancy_pos[0]],\n",
    "        y=[vacancy_pos[1]],\n",
    "        z=[vacancy_pos[2]],\n",
    "        mode='markers',\n",
    "        marker=dict(\n",
    "            size=12,\n",
    "            color=vacancy_color,\n",
    "            opacity=0.7,\n",
    "            line=dict(color='#3A0CA3', width=1),\n",
    "            symbol='circle'\n",
    "        ),\n",
    "        name='Vacancy'\n",
    "    ))\n",
    "    \n",
    "    # Add text labels for N and V\n",
    "    fig.add_trace(go.Scatter3d(\n",
    "        x=[nitrogen_pos[0], vacancy_pos[0]],\n",
    "        y=[nitrogen_pos[1], vacancy_pos[1]],\n",
    "        z=[nitrogen_pos[2], vacancy_pos[2]],\n",
    "        mode='text',\n",
    "        text=['N', 'V'],\n",
    "        textposition=\"middle center\",\n",
    "        textfont=dict(size=16, color='black', family='Arial Black'),\n",
    "        name='Labels'\n",
    "    ))\n",
    "    \n",
    "    # Add bonds\n",
    "    x_lines, y_lines, z_lines = [], [], []\n",
    "    colors = []\n",
    "    \n",
    "    for i, j in bonds:\n",
    "        # Skip bonds to/from vacancy\n",
    "        if atom_types[i] == -1 or atom_types[j] == -1:\n",
    "            continue\n",
    "            \n",
    "        # Add line coordinates with None separators\n",
    "        x_lines.extend([positions[i, 0], positions[j, 0], None])\n",
    "        y_lines.extend([positions[i, 1], positions[j, 1], None])\n",
    "        z_lines.extend([positions[i, 2], positions[j, 2], None])\n",
    "        \n",
    "        # Determine color based on atom types\n",
    "        if atom_types[i] == 1 or atom_types[j] == 1:\n",
    "            # Bond to nitrogen\n",
    "            colors.extend(['#FF9E00', '#FF9E00', '#FF9E00'])  # Orange for N-C bonds\n",
    "        else:\n",
    "            # Carbon-carbon bond\n",
    "            colors.extend(['#457B9D', '#457B9D', '#457B9D'])  # Steel blue for C-C bonds\n",
    "    \n",
    "    # Add the bonds as lines\n",
    "    fig.add_trace(go.Scatter3d(\n",
    "        x=x_lines,\n",
    "        y=y_lines,\n",
    "        z=z_lines,\n",
    "        mode='lines',\n",
    "        line=dict(color=colors, width=5),\n",
    "        hoverinfo='none',\n",
    "        name='Bonds'\n",
    "    ))\n",
    "    \n",
    "    # Create unit cell boundary\n",
    "    min_coords = np.min(positions, axis=0) - 1.0\n",
    "    max_coords = np.max(positions, axis=0) + 1.0\n",
    "    \n",
    "    # Create the edges of the cube\n",
    "    x_lines, y_lines, z_lines = [], [], []\n",
    "    \n",
    "    # Bottom face\n",
    "    x_lines.extend([min_coords[0], max_coords[0], None, max_coords[0], max_coords[0], None, \n",
    "                    max_coords[0], min_coords[0], None, min_coords[0], min_coords[0], None])\n",
    "    y_lines.extend([min_coords[1], min_coords[1], None, min_coords[1], max_coords[1], None, \n",
    "                    max_coords[1], max_coords[1], None, max_coords[1], min_coords[1], None])\n",
    "    z_lines.extend([min_coords[2], min_coords[2], None, min_coords[2], min_coords[2], None, \n",
    "                    min_coords[2], min_coords[2], None, min_coords[2], min_coords[2], None])\n",
    "    \n",
    "    # Top face\n",
    "    x_lines.extend([min_coords[0], max_coords[0], None, max_coords[0], max_coords[0], None, \n",
    "                    max_coords[0], min_coords[0], None, min_coords[0], min_coords[0], None])\n",
    "    y_lines.extend([min_coords[1], min_coords[1], None, min_coords[1], max_coords[1], None, \n",
    "                    max_coords[1], max_coords[1], None, max_coords[1], min_coords[1], None])\n",
    "    z_lines.extend([max_coords[2], max_coords[2], None, max_coords[2], max_coords[2], None, \n",
    "                    max_coords[2], max_coords[2], None, max_coords[2], max_coords[2], None])\n",
    "    \n",
    "    # Vertical edges\n",
    "    x_lines.extend([min_coords[0], min_coords[0], None, max_coords[0], max_coords[0], None, \n",
    "                    max_coords[0], max_coords[0], None, min_coords[0], min_coords[0], None])\n",
    "    y_lines.extend([min_coords[1], min_coords[1], None, min_coords[1], min_coords[1], None, \n",
    "                    max_coords[1], max_coords[1], None, max_coords[1], max_coords[1], None])\n",
    "    z_lines.extend([min_coords[2], max_coords[2], None, min_coords[2], max_coords[2], None, \n",
    "                    min_coords[2], max_coords[2], None, min_coords[2], max_coords[2], None])\n",
    "    \n",
    "    # Add the unit cell as a cube\n",
    "    fig.add_trace(go.Scatter3d(\n",
    "        x=x_lines,\n",
    "        y=y_lines,\n",
    "        z=z_lines,\n",
    "        mode='lines',\n",
    "        line=dict(color='#AAAAAA', width=2, dash='dot'),\n",
    "        hoverinfo='none',\n",
    "        name='Unit Cell'\n",
    "    ))\n",
    "    \n",
    "    # Set layout for a clean, professional look\n",
    "    fig.update_layout(\n",
    "        title='Interactive Nitrogen-Vacancy (NV) Center in Diamond',\n",
    "        scene=dict(\n",
    "            xaxis=dict(showticklabels=False, title='', \n",
    "                       showgrid=False, zeroline=False, showline=False),\n",
    "            yaxis=dict(showticklabels=False, title='', \n",
    "                       showgrid=False, zeroline=False, showline=False),\n",
    "            zaxis=dict(showticklabels=False, title='', \n",
    "                       showgrid=False, zeroline=False, showline=False),\n",
    "            aspectmode='data'\n",
    "        ),\n",
    "        margin=dict(l=0, r=0, b=0, t=30),\n",
    "        legend=dict(x=0.01, y=0.99, bordercolor='#AAAAAA', borderwidth=1),\n",
    "        template='plotly_white'\n",
    "    )\n",
    "    \n",
    "    # Set camera position for initial view - zoomed in closer\n",
    "    fig.update_layout(\n",
    "        scene_camera=dict(\n",
    "            up=dict(x=0, y=0, z=1),\n",
    "            center=dict(x=0, y=0, z=0),\n",
    "            eye=dict(x=1.0, y=-1.0, z=1.0)  # Reduced values for zooming in\n",
    "        )\n",
    "    )\n",
    "    \n",
    "    return fig"
   ]
  },
  {
   "cell_type": "code",
   "execution_count": 35,
   "id": "f411ff19",
   "metadata": {},
   "outputs": [
    {
     "name": "stdout",
     "output_type": "stream",
     "text": [
      "Created diamond lattice with 64 atoms\n",
      "Found 86 bonds between atoms\n",
      "Created NV center: Nitrogen at index 56, Vacancy at index 57\n"
     ]
    },
    {
     "data": {
      "application/vnd.plotly.v1+json": {
       "config": {
        "plotlyServerURL": "https://plot.ly"
       },
       "data": [
        {
         "marker": {
          "color": "#303030",
          "line": {
           "color": "#606060",
           "width": 1
          },
          "opacity": 0.9,
          "size": 10
         },
         "mode": "markers",
         "name": "Carbon",
         "type": "scatter3d",
         "x": {
          "bdata": "AAAAAAAAAACPwvUoXI/sP4/C9Shcj/w/61G4HoVrBUCPwvUoXI/8P+tRuB6FawVAAAAAAAAAAACPwvUoXI/sPwAAAAAAAAAAj8L1KFyP7D+PwvUoXI/8P+tRuB6FawVAj8L1KFyP/D/rUbgehWsFQAAAAAAAAAAAj8L1KFyP7D8AAAAAAAAAAI/C9Shcj+w/j8L1KFyP/D/rUbgehWsFQI/C9Shcj/w/61G4HoVrBUAAAAAAAAAAAI/C9Shcj+w/AAAAAAAAAACPwvUoXI/sP4/C9Shcj/w/61G4HoVrBUCPwvUoXI/8P+tRuB6FawVAAAAAAAAAAACPwvUoXI/sP4/C9ShcjwxAmZmZmZnZEUDrUbgehWsVQD0K16Nw/RhA61G4HoVrFUA9CtejcP0YQI/C9ShcjwxAmZmZmZnZEUCPwvUoXI8MQJmZmZmZ2RFA61G4HoVrFUA9CtejcP0YQOtRuB6FaxVAPQrXo3D9GECPwvUoXI8MQJmZmZmZ2RFAj8L1KFyPDECZmZmZmdkRQOtRuB6FaxVAPQrXo3D9GEDrUbgehWsVQD0K16Nw/RhAj8L1KFyPDECZmZmZmdkRQOtRuB6FaxVAPQrXo3D9GEDrUbgehWsVQD0K16Nw/RhAj8L1KFyPDECZmZmZmdkRQA==",
          "dtype": "f8"
         },
         "y": {
          "bdata": "AAAAAAAAAACPwvUoXI/sP4/C9Shcj/w/61G4HoVrBUAAAAAAAAAAAI/C9Shcj+w/j8L1KFyP/D/rUbgehWsFQAAAAAAAAAAAj8L1KFyP7D+PwvUoXI/8P+tRuB6FawVAAAAAAAAAAACPwvUoXI/sP4/C9Shcj/w/61G4HoVrBUCPwvUoXI8MQJmZmZmZ2RFA61G4HoVrFUA9CtejcP0YQI/C9ShcjwxAmZmZmZnZEUDrUbgehWsVQD0K16Nw/RhAj8L1KFyPDECZmZmZmdkRQOtRuB6FaxVAPQrXo3D9GECPwvUoXI8MQJmZmZmZ2RFA61G4HoVrFUA9CtejcP0YQAAAAAAAAAAAj8L1KFyP7D+PwvUoXI/8P+tRuB6FawVAAAAAAAAAAACPwvUoXI/sP4/C9Shcj/w/61G4HoVrBUAAAAAAAAAAAI/C9Shcj+w/j8L1KFyP/D/rUbgehWsFQAAAAAAAAAAAj8L1KFyP7D+PwvUoXI/8P+tRuB6FawVAj8L1KFyPDECZmZmZmdkRQOtRuB6FaxVAPQrXo3D9GECPwvUoXI8MQJmZmZmZ2RFA61G4HoVrFUA9CtejcP0YQOtRuB6FaxVAPQrXo3D9GECPwvUoXI8MQJmZmZmZ2RFA61G4HoVrFUA9CtejcP0YQA==",
          "dtype": "f8"
         },
         "z": {
          "bdata": "AAAAAAAAAACPwvUoXI/sPwAAAAAAAAAAj8L1KFyP7D+PwvUoXI/8P+tRuB6FawVAj8L1KFyP/D/rUbgehWsFQI/C9ShcjwxAmZmZmZnZEUCPwvUoXI8MQJmZmZmZ2RFA61G4HoVrFUA9CtejcP0YQOtRuB6FaxVAPQrXo3D9GEAAAAAAAAAAAI/C9Shcj+w/AAAAAAAAAACPwvUoXI/sP4/C9Shcj/w/61G4HoVrBUCPwvUoXI/8P+tRuB6FawVAj8L1KFyPDECZmZmZmdkRQI/C9ShcjwxAmZmZmZnZEUDrUbgehWsVQD0K16Nw/RhA61G4HoVrFUA9CtejcP0YQAAAAAAAAAAAj8L1KFyP7D8AAAAAAAAAAI/C9Shcj+w/j8L1KFyP/D/rUbgehWsFQI/C9Shcj/w/61G4HoVrBUCPwvUoXI8MQJmZmZmZ2RFAj8L1KFyPDECZmZmZmdkRQOtRuB6FaxVAPQrXo3D9GEDrUbgehWsVQD0K16Nw/RhAAAAAAAAAAACPwvUoXI/sPwAAAAAAAAAAj8L1KFyP7D+PwvUoXI/8P+tRuB6FawVAj8L1KFyP/D/rUbgehWsFQI/C9ShcjwxAmZmZmZnZEUDrUbgehWsVQD0K16Nw/RhA61G4HoVrFUA9CtejcP0YQA==",
          "dtype": "f8"
         }
        },
        {
         "marker": {
          "color": "#E63946",
          "line": {
           "color": "#C1121F",
           "width": 1
          },
          "opacity": 1,
          "size": 12,
          "symbol": "circle"
         },
         "mode": "markers",
         "name": "Nitrogen",
         "type": "scatter3d",
         "x": [
          3.57
         ],
         "y": [
          3.57
         ],
         "z": [
          3.57
         ]
        },
        {
         "marker": {
          "color": "#4361EE",
          "line": {
           "color": "#3A0CA3",
           "width": 1
          },
          "opacity": 0.7,
          "size": 12,
          "symbol": "circle"
         },
         "mode": "markers",
         "name": "Vacancy",
         "type": "scatter3d",
         "x": [
          4.4624999999999995
         ],
         "y": [
          4.4624999999999995
         ],
         "z": [
          4.4624999999999995
         ]
        },
        {
         "mode": "text",
         "name": "Labels",
         "text": [
          "N",
          "V"
         ],
         "textfont": {
          "color": "black",
          "family": "Arial Black",
          "size": 16
         },
         "textposition": "middle center",
         "type": "scatter3d",
         "x": [
          3.57,
          4.4624999999999995
         ],
         "y": [
          3.57,
          4.4624999999999995
         ],
         "z": [
          3.57,
          4.4624999999999995
         ]
        },
        {
         "hoverinfo": "none",
         "line": {
          "color": [
           "#457B9D",
           "#457B9D",
           "#457B9D",
           "#457B9D",
           "#457B9D",
           "#457B9D",
           "#457B9D",
           "#457B9D",
           "#457B9D",
           "#457B9D",
           "#457B9D",
           "#457B9D",
           "#457B9D",
           "#457B9D",
           "#457B9D",
           "#457B9D",
           "#457B9D",
           "#457B9D",
           "#457B9D",
           "#457B9D",
           "#457B9D",
           "#457B9D",
           "#457B9D",
           "#457B9D",
           "#457B9D",
           "#457B9D",
           "#457B9D",
           "#457B9D",
           "#457B9D",
           "#457B9D",
           "#457B9D",
           "#457B9D",
           "#457B9D",
           "#457B9D",
           "#457B9D",
           "#457B9D",
           "#457B9D",
           "#457B9D",
           "#457B9D",
           "#457B9D",
           "#457B9D",
           "#457B9D",
           "#457B9D",
           "#457B9D",
           "#457B9D",
           "#457B9D",
           "#457B9D",
           "#457B9D",
           "#457B9D",
           "#457B9D",
           "#457B9D",
           "#457B9D",
           "#457B9D",
           "#457B9D",
           "#457B9D",
           "#457B9D",
           "#457B9D",
           "#457B9D",
           "#457B9D",
           "#457B9D",
           "#457B9D",
           "#457B9D",
           "#457B9D",
           "#457B9D",
           "#457B9D",
           "#457B9D",
           "#457B9D",
           "#457B9D",
           "#457B9D",
           "#FF9E00",
           "#FF9E00",
           "#FF9E00",
           "#457B9D",
           "#457B9D",
           "#457B9D",
           "#457B9D",
           "#457B9D",
           "#457B9D",
           "#457B9D",
           "#457B9D",
           "#457B9D",
           "#457B9D",
           "#457B9D",
           "#457B9D",
           "#457B9D",
           "#457B9D",
           "#457B9D",
           "#457B9D",
           "#457B9D",
           "#457B9D",
           "#457B9D",
           "#457B9D",
           "#457B9D",
           "#457B9D",
           "#457B9D",
           "#457B9D",
           "#457B9D",
           "#457B9D",
           "#457B9D",
           "#457B9D",
           "#457B9D",
           "#457B9D",
           "#457B9D",
           "#457B9D",
           "#457B9D",
           "#457B9D",
           "#457B9D",
           "#457B9D",
           "#457B9D",
           "#457B9D",
           "#457B9D",
           "#FF9E00",
           "#FF9E00",
           "#FF9E00",
           "#457B9D",
           "#457B9D",
           "#457B9D",
           "#457B9D",
           "#457B9D",
           "#457B9D",
           "#457B9D",
           "#457B9D",
           "#457B9D",
           "#457B9D",
           "#457B9D",
           "#457B9D",
           "#457B9D",
           "#457B9D",
           "#457B9D",
           "#457B9D",
           "#457B9D",
           "#457B9D",
           "#457B9D",
           "#457B9D",
           "#457B9D",
           "#457B9D",
           "#457B9D",
           "#457B9D",
           "#457B9D",
           "#457B9D",
           "#457B9D",
           "#457B9D",
           "#457B9D",
           "#457B9D",
           "#457B9D",
           "#457B9D",
           "#457B9D",
           "#457B9D",
           "#457B9D",
           "#457B9D",
           "#457B9D",
           "#457B9D",
           "#457B9D",
           "#457B9D",
           "#457B9D",
           "#457B9D",
           "#457B9D",
           "#457B9D",
           "#457B9D",
           "#457B9D",
           "#457B9D",
           "#457B9D",
           "#457B9D",
           "#457B9D",
           "#457B9D",
           "#457B9D",
           "#457B9D",
           "#457B9D",
           "#457B9D",
           "#457B9D",
           "#457B9D",
           "#457B9D",
           "#457B9D",
           "#457B9D",
           "#457B9D",
           "#457B9D",
           "#457B9D",
           "#457B9D",
           "#457B9D",
           "#457B9D",
           "#FF9E00",
           "#FF9E00",
           "#FF9E00",
           "#457B9D",
           "#457B9D",
           "#457B9D",
           "#457B9D",
           "#457B9D",
           "#457B9D",
           "#457B9D",
           "#457B9D",
           "#457B9D",
           "#457B9D",
           "#457B9D",
           "#457B9D",
           "#457B9D",
           "#457B9D",
           "#457B9D",
           "#457B9D",
           "#457B9D",
           "#457B9D",
           "#457B9D",
           "#457B9D",
           "#457B9D",
           "#457B9D",
           "#457B9D",
           "#457B9D",
           "#457B9D",
           "#457B9D",
           "#457B9D",
           "#457B9D",
           "#457B9D",
           "#457B9D",
           "#457B9D",
           "#457B9D",
           "#457B9D",
           "#457B9D",
           "#457B9D",
           "#457B9D",
           "#457B9D",
           "#457B9D",
           "#457B9D",
           "#457B9D",
           "#457B9D",
           "#457B9D",
           "#457B9D",
           "#457B9D",
           "#457B9D",
           "#457B9D",
           "#457B9D",
           "#457B9D",
           "#457B9D",
           "#457B9D",
           "#457B9D",
           "#457B9D",
           "#457B9D",
           "#457B9D",
           "#457B9D",
           "#457B9D",
           "#457B9D",
           "#457B9D",
           "#457B9D",
           "#457B9D",
           "#457B9D",
           "#457B9D",
           "#457B9D"
          ],
          "width": 5
         },
         "mode": "lines",
         "name": "Bonds",
         "type": "scatter3d",
         "x": [
          0,
          0.8925,
          null,
          0.8925,
          1.785,
          null,
          0.8925,
          1.785,
          null,
          0.8925,
          0,
          null,
          1.785,
          2.6774999999999998,
          null,
          2.6774999999999998,
          1.785,
          null,
          2.6774999999999998,
          3.57,
          null,
          2.6774999999999998,
          3.57,
          null,
          1.785,
          2.6774999999999998,
          null,
          2.6774999999999998,
          1.785,
          null,
          2.6774999999999998,
          3.57,
          null,
          2.6774999999999998,
          3.57,
          null,
          0,
          0.8925,
          null,
          0.8925,
          1.785,
          null,
          0.8925,
          1.785,
          null,
          0.8925,
          0,
          null,
          0,
          0.8925,
          null,
          0.8925,
          1.785,
          null,
          0.8925,
          1.785,
          null,
          0.8925,
          0,
          null,
          1.785,
          2.6774999999999998,
          null,
          2.6774999999999998,
          1.785,
          null,
          2.6774999999999998,
          3.57,
          null,
          2.6774999999999998,
          3.57,
          null,
          1.785,
          2.6774999999999998,
          null,
          2.6774999999999998,
          3.57,
          null,
          0,
          0.8925,
          null,
          0.8925,
          1.785,
          null,
          0,
          0.8925,
          null,
          0.8925,
          1.785,
          null,
          0.8925,
          1.785,
          null,
          0.8925,
          0,
          null,
          1.785,
          2.6774999999999998,
          null,
          2.6774999999999998,
          3.57,
          null,
          1.785,
          2.6774999999999998,
          null,
          2.6774999999999998,
          1.785,
          null,
          2.6774999999999998,
          3.57,
          null,
          2.6774999999999998,
          3.57,
          null,
          0,
          0.8925,
          null,
          0.8925,
          1.785,
          null,
          0,
          0.8925,
          null,
          0.8925,
          1.785,
          null,
          0.8925,
          1.785,
          null,
          0.8925,
          0,
          null,
          1.785,
          2.6774999999999998,
          null,
          2.6774999999999998,
          3.57,
          null,
          1.785,
          2.6774999999999998,
          null,
          2.6774999999999998,
          3.57,
          null,
          0,
          0.8925,
          null,
          3.57,
          4.4624999999999995,
          null,
          4.4624999999999995,
          5.3549999999999995,
          null,
          4.4624999999999995,
          5.3549999999999995,
          null,
          4.4624999999999995,
          3.57,
          null,
          5.3549999999999995,
          6.2475,
          null,
          6.2475,
          5.3549999999999995,
          null,
          5.3549999999999995,
          6.2475,
          null,
          6.2475,
          5.3549999999999995,
          null,
          3.57,
          4.4624999999999995,
          null,
          4.4624999999999995,
          5.3549999999999995,
          null,
          4.4624999999999995,
          5.3549999999999995,
          null,
          4.4624999999999995,
          3.57,
          null,
          3.57,
          4.4624999999999995,
          null,
          4.4624999999999995,
          5.3549999999999995,
          null,
          4.4624999999999995,
          5.3549999999999995,
          null,
          4.4624999999999995,
          3.57,
          null,
          5.3549999999999995,
          6.2475,
          null,
          6.2475,
          5.3549999999999995,
          null,
          5.3549999999999995,
          6.2475,
          null,
          3.57,
          4.4624999999999995,
          null,
          4.4624999999999995,
          5.3549999999999995,
          null,
          3.57,
          4.4624999999999995,
          null,
          4.4624999999999995,
          5.3549999999999995,
          null,
          4.4624999999999995,
          5.3549999999999995,
          null,
          4.4624999999999995,
          3.57,
          null,
          5.3549999999999995,
          6.2475,
          null,
          5.3549999999999995,
          6.2475,
          null,
          6.2475,
          5.3549999999999995,
          null,
          3.57,
          4.4624999999999995,
          null,
          4.4624999999999995,
          5.3549999999999995,
          null,
          5.3549999999999995,
          6.2475,
          null,
          5.3549999999999995,
          6.2475,
          null,
          3.57,
          4.4624999999999995,
          null
         ],
         "y": [
          0,
          0.8925,
          null,
          0.8925,
          1.785,
          null,
          0.8925,
          0,
          null,
          0.8925,
          1.785,
          null,
          1.785,
          2.6774999999999998,
          null,
          2.6774999999999998,
          3.57,
          null,
          2.6774999999999998,
          1.785,
          null,
          2.6774999999999998,
          3.57,
          null,
          0,
          0.8925,
          null,
          0.8925,
          1.785,
          null,
          0.8925,
          1.785,
          null,
          0.8925,
          0,
          null,
          1.785,
          2.6774999999999998,
          null,
          2.6774999999999998,
          1.785,
          null,
          2.6774999999999998,
          3.57,
          null,
          2.6774999999999998,
          3.57,
          null,
          0,
          0.8925,
          null,
          0.8925,
          1.785,
          null,
          0.8925,
          0,
          null,
          0.8925,
          1.785,
          null,
          1.785,
          2.6774999999999998,
          null,
          2.6774999999999998,
          3.57,
          null,
          2.6774999999999998,
          1.785,
          null,
          2.6774999999999998,
          3.57,
          null,
          0,
          0.8925,
          null,
          0.8925,
          1.785,
          null,
          1.785,
          2.6774999999999998,
          null,
          2.6774999999999998,
          3.57,
          null,
          3.57,
          4.4624999999999995,
          null,
          4.4624999999999995,
          5.3549999999999995,
          null,
          4.4624999999999995,
          3.57,
          null,
          4.4624999999999995,
          5.3549999999999995,
          null,
          5.3549999999999995,
          6.2475,
          null,
          6.2475,
          5.3549999999999995,
          null,
          3.57,
          4.4624999999999995,
          null,
          4.4624999999999995,
          5.3549999999999995,
          null,
          4.4624999999999995,
          5.3549999999999995,
          null,
          4.4624999999999995,
          3.57,
          null,
          5.3549999999999995,
          6.2475,
          null,
          6.2475,
          5.3549999999999995,
          null,
          3.57,
          4.4624999999999995,
          null,
          4.4624999999999995,
          5.3549999999999995,
          null,
          4.4624999999999995,
          3.57,
          null,
          4.4624999999999995,
          5.3549999999999995,
          null,
          5.3549999999999995,
          6.2475,
          null,
          6.2475,
          5.3549999999999995,
          null,
          3.57,
          4.4624999999999995,
          null,
          4.4624999999999995,
          5.3549999999999995,
          null,
          5.3549999999999995,
          6.2475,
          null,
          0,
          0.8925,
          null,
          0.8925,
          1.785,
          null,
          0.8925,
          0,
          null,
          0.8925,
          1.785,
          null,
          1.785,
          2.6774999999999998,
          null,
          2.6774999999999998,
          3.57,
          null,
          0,
          0.8925,
          null,
          0.8925,
          1.785,
          null,
          1.785,
          2.6774999999999998,
          null,
          2.6774999999999998,
          1.785,
          null,
          2.6774999999999998,
          3.57,
          null,
          2.6774999999999998,
          3.57,
          null,
          0,
          0.8925,
          null,
          0.8925,
          1.785,
          null,
          0.8925,
          0,
          null,
          0.8925,
          1.785,
          null,
          1.785,
          2.6774999999999998,
          null,
          2.6774999999999998,
          3.57,
          null,
          0,
          0.8925,
          null,
          1.785,
          2.6774999999999998,
          null,
          2.6774999999999998,
          3.57,
          null,
          3.57,
          4.4624999999999995,
          null,
          4.4624999999999995,
          5.3549999999999995,
          null,
          4.4624999999999995,
          3.57,
          null,
          4.4624999999999995,
          5.3549999999999995,
          null,
          5.3549999999999995,
          6.2475,
          null,
          3.57,
          4.4624999999999995,
          null,
          4.4624999999999995,
          5.3549999999999995,
          null,
          5.3549999999999995,
          6.2475,
          null,
          6.2475,
          5.3549999999999995,
          null,
          5.3549999999999995,
          6.2475,
          null,
          3.57,
          4.4624999999999995,
          null,
          5.3549999999999995,
          6.2475,
          null
         ],
         "z": [
          0,
          0.8925,
          null,
          0.8925,
          0,
          null,
          0.8925,
          1.785,
          null,
          0.8925,
          1.785,
          null,
          0,
          0.8925,
          null,
          0.8925,
          1.785,
          null,
          0.8925,
          1.785,
          null,
          0.8925,
          0,
          null,
          1.785,
          2.6774999999999998,
          null,
          2.6774999999999998,
          3.57,
          null,
          2.6774999999999998,
          1.785,
          null,
          2.6774999999999998,
          3.57,
          null,
          1.785,
          2.6774999999999998,
          null,
          2.6774999999999998,
          3.57,
          null,
          2.6774999999999998,
          1.785,
          null,
          2.6774999999999998,
          3.57,
          null,
          3.57,
          4.4624999999999995,
          null,
          4.4624999999999995,
          3.57,
          null,
          4.4624999999999995,
          5.3549999999999995,
          null,
          4.4624999999999995,
          5.3549999999999995,
          null,
          3.57,
          4.4624999999999995,
          null,
          4.4624999999999995,
          5.3549999999999995,
          null,
          4.4624999999999995,
          5.3549999999999995,
          null,
          4.4624999999999995,
          3.57,
          null,
          5.3549999999999995,
          6.2475,
          null,
          6.2475,
          5.3549999999999995,
          null,
          5.3549999999999995,
          6.2475,
          null,
          6.2475,
          5.3549999999999995,
          null,
          0,
          0.8925,
          null,
          0.8925,
          0,
          null,
          0.8925,
          1.785,
          null,
          0.8925,
          1.785,
          null,
          0,
          0.8925,
          null,
          0.8925,
          1.785,
          null,
          1.785,
          2.6774999999999998,
          null,
          2.6774999999999998,
          3.57,
          null,
          2.6774999999999998,
          1.785,
          null,
          2.6774999999999998,
          3.57,
          null,
          1.785,
          2.6774999999999998,
          null,
          2.6774999999999998,
          3.57,
          null,
          3.57,
          4.4624999999999995,
          null,
          4.4624999999999995,
          3.57,
          null,
          4.4624999999999995,
          5.3549999999999995,
          null,
          4.4624999999999995,
          5.3549999999999995,
          null,
          3.57,
          4.4624999999999995,
          null,
          4.4624999999999995,
          5.3549999999999995,
          null,
          5.3549999999999995,
          6.2475,
          null,
          6.2475,
          5.3549999999999995,
          null,
          5.3549999999999995,
          6.2475,
          null,
          0,
          0.8925,
          null,
          0.8925,
          0,
          null,
          0.8925,
          1.785,
          null,
          0.8925,
          1.785,
          null,
          0,
          0.8925,
          null,
          0.8925,
          1.785,
          null,
          1.785,
          2.6774999999999998,
          null,
          2.6774999999999998,
          3.57,
          null,
          1.785,
          2.6774999999999998,
          null,
          2.6774999999999998,
          3.57,
          null,
          2.6774999999999998,
          1.785,
          null,
          2.6774999999999998,
          3.57,
          null,
          3.57,
          4.4624999999999995,
          null,
          4.4624999999999995,
          3.57,
          null,
          4.4624999999999995,
          5.3549999999999995,
          null,
          4.4624999999999995,
          5.3549999999999995,
          null,
          3.57,
          4.4624999999999995,
          null,
          4.4624999999999995,
          5.3549999999999995,
          null,
          5.3549999999999995,
          6.2475,
          null,
          5.3549999999999995,
          6.2475,
          null,
          6.2475,
          5.3549999999999995,
          null,
          0,
          0.8925,
          null,
          0.8925,
          0,
          null,
          0.8925,
          1.785,
          null,
          0.8925,
          1.785,
          null,
          0,
          0.8925,
          null,
          1.785,
          2.6774999999999998,
          null,
          2.6774999999999998,
          3.57,
          null,
          1.785,
          2.6774999999999998,
          null,
          2.6774999999999998,
          3.57,
          null,
          3.57,
          4.4624999999999995,
          null,
          5.3549999999999995,
          6.2475,
          null,
          5.3549999999999995,
          6.2475,
          null
         ]
        },
        {
         "hoverinfo": "none",
         "line": {
          "color": "#AAAAAA",
          "dash": "dot",
          "width": 2
         },
         "mode": "lines",
         "name": "Unit Cell",
         "type": "scatter3d",
         "x": [
          -1,
          7.2475,
          null,
          7.2475,
          7.2475,
          null,
          7.2475,
          -1,
          null,
          -1,
          -1,
          null,
          -1,
          7.2475,
          null,
          7.2475,
          7.2475,
          null,
          7.2475,
          -1,
          null,
          -1,
          -1,
          null,
          -1,
          -1,
          null,
          7.2475,
          7.2475,
          null,
          7.2475,
          7.2475,
          null,
          -1,
          -1,
          null
         ],
         "y": [
          -1,
          -1,
          null,
          -1,
          7.2475,
          null,
          7.2475,
          7.2475,
          null,
          7.2475,
          -1,
          null,
          -1,
          -1,
          null,
          -1,
          7.2475,
          null,
          7.2475,
          7.2475,
          null,
          7.2475,
          -1,
          null,
          -1,
          -1,
          null,
          -1,
          -1,
          null,
          7.2475,
          7.2475,
          null,
          7.2475,
          7.2475,
          null
         ],
         "z": [
          -1,
          -1,
          null,
          -1,
          -1,
          null,
          -1,
          -1,
          null,
          -1,
          -1,
          null,
          7.2475,
          7.2475,
          null,
          7.2475,
          7.2475,
          null,
          7.2475,
          7.2475,
          null,
          7.2475,
          7.2475,
          null,
          -1,
          7.2475,
          null,
          -1,
          7.2475,
          null,
          -1,
          7.2475,
          null,
          -1,
          7.2475,
          null
         ]
        }
       ],
       "layout": {
        "legend": {
         "bordercolor": "#AAAAAA",
         "borderwidth": 1,
         "x": 0.01,
         "y": 0.99
        },
        "margin": {
         "b": 0,
         "l": 0,
         "r": 0,
         "t": 30
        },
        "scene": {
         "aspectmode": "data",
         "camera": {
          "center": {
           "x": 0,
           "y": 0,
           "z": 0
          },
          "eye": {
           "x": 1,
           "y": -1,
           "z": 1
          },
          "up": {
           "x": 0,
           "y": 0,
           "z": 1
          }
         },
         "xaxis": {
          "showgrid": false,
          "showline": false,
          "showticklabels": false,
          "title": {
           "text": ""
          },
          "zeroline": false
         },
         "yaxis": {
          "showgrid": false,
          "showline": false,
          "showticklabels": false,
          "title": {
           "text": ""
          },
          "zeroline": false
         },
         "zaxis": {
          "showgrid": false,
          "showline": false,
          "showticklabels": false,
          "title": {
           "text": ""
          },
          "zeroline": false
         }
        },
        "template": {
         "data": {
          "bar": [
           {
            "error_x": {
             "color": "#2a3f5f"
            },
            "error_y": {
             "color": "#2a3f5f"
            },
            "marker": {
             "line": {
              "color": "white",
              "width": 0.5
             },
             "pattern": {
              "fillmode": "overlay",
              "size": 10,
              "solidity": 0.2
             }
            },
            "type": "bar"
           }
          ],
          "barpolar": [
           {
            "marker": {
             "line": {
              "color": "white",
              "width": 0.5
             },
             "pattern": {
              "fillmode": "overlay",
              "size": 10,
              "solidity": 0.2
             }
            },
            "type": "barpolar"
           }
          ],
          "carpet": [
           {
            "aaxis": {
             "endlinecolor": "#2a3f5f",
             "gridcolor": "#C8D4E3",
             "linecolor": "#C8D4E3",
             "minorgridcolor": "#C8D4E3",
             "startlinecolor": "#2a3f5f"
            },
            "baxis": {
             "endlinecolor": "#2a3f5f",
             "gridcolor": "#C8D4E3",
             "linecolor": "#C8D4E3",
             "minorgridcolor": "#C8D4E3",
             "startlinecolor": "#2a3f5f"
            },
            "type": "carpet"
           }
          ],
          "choropleth": [
           {
            "colorbar": {
             "outlinewidth": 0,
             "ticks": ""
            },
            "type": "choropleth"
           }
          ],
          "contour": [
           {
            "colorbar": {
             "outlinewidth": 0,
             "ticks": ""
            },
            "colorscale": [
             [
              0,
              "#0d0887"
             ],
             [
              0.1111111111111111,
              "#46039f"
             ],
             [
              0.2222222222222222,
              "#7201a8"
             ],
             [
              0.3333333333333333,
              "#9c179e"
             ],
             [
              0.4444444444444444,
              "#bd3786"
             ],
             [
              0.5555555555555556,
              "#d8576b"
             ],
             [
              0.6666666666666666,
              "#ed7953"
             ],
             [
              0.7777777777777778,
              "#fb9f3a"
             ],
             [
              0.8888888888888888,
              "#fdca26"
             ],
             [
              1,
              "#f0f921"
             ]
            ],
            "type": "contour"
           }
          ],
          "contourcarpet": [
           {
            "colorbar": {
             "outlinewidth": 0,
             "ticks": ""
            },
            "type": "contourcarpet"
           }
          ],
          "heatmap": [
           {
            "colorbar": {
             "outlinewidth": 0,
             "ticks": ""
            },
            "colorscale": [
             [
              0,
              "#0d0887"
             ],
             [
              0.1111111111111111,
              "#46039f"
             ],
             [
              0.2222222222222222,
              "#7201a8"
             ],
             [
              0.3333333333333333,
              "#9c179e"
             ],
             [
              0.4444444444444444,
              "#bd3786"
             ],
             [
              0.5555555555555556,
              "#d8576b"
             ],
             [
              0.6666666666666666,
              "#ed7953"
             ],
             [
              0.7777777777777778,
              "#fb9f3a"
             ],
             [
              0.8888888888888888,
              "#fdca26"
             ],
             [
              1,
              "#f0f921"
             ]
            ],
            "type": "heatmap"
           }
          ],
          "histogram": [
           {
            "marker": {
             "pattern": {
              "fillmode": "overlay",
              "size": 10,
              "solidity": 0.2
             }
            },
            "type": "histogram"
           }
          ],
          "histogram2d": [
           {
            "colorbar": {
             "outlinewidth": 0,
             "ticks": ""
            },
            "colorscale": [
             [
              0,
              "#0d0887"
             ],
             [
              0.1111111111111111,
              "#46039f"
             ],
             [
              0.2222222222222222,
              "#7201a8"
             ],
             [
              0.3333333333333333,
              "#9c179e"
             ],
             [
              0.4444444444444444,
              "#bd3786"
             ],
             [
              0.5555555555555556,
              "#d8576b"
             ],
             [
              0.6666666666666666,
              "#ed7953"
             ],
             [
              0.7777777777777778,
              "#fb9f3a"
             ],
             [
              0.8888888888888888,
              "#fdca26"
             ],
             [
              1,
              "#f0f921"
             ]
            ],
            "type": "histogram2d"
           }
          ],
          "histogram2dcontour": [
           {
            "colorbar": {
             "outlinewidth": 0,
             "ticks": ""
            },
            "colorscale": [
             [
              0,
              "#0d0887"
             ],
             [
              0.1111111111111111,
              "#46039f"
             ],
             [
              0.2222222222222222,
              "#7201a8"
             ],
             [
              0.3333333333333333,
              "#9c179e"
             ],
             [
              0.4444444444444444,
              "#bd3786"
             ],
             [
              0.5555555555555556,
              "#d8576b"
             ],
             [
              0.6666666666666666,
              "#ed7953"
             ],
             [
              0.7777777777777778,
              "#fb9f3a"
             ],
             [
              0.8888888888888888,
              "#fdca26"
             ],
             [
              1,
              "#f0f921"
             ]
            ],
            "type": "histogram2dcontour"
           }
          ],
          "mesh3d": [
           {
            "colorbar": {
             "outlinewidth": 0,
             "ticks": ""
            },
            "type": "mesh3d"
           }
          ],
          "parcoords": [
           {
            "line": {
             "colorbar": {
              "outlinewidth": 0,
              "ticks": ""
             }
            },
            "type": "parcoords"
           }
          ],
          "pie": [
           {
            "automargin": true,
            "type": "pie"
           }
          ],
          "scatter": [
           {
            "fillpattern": {
             "fillmode": "overlay",
             "size": 10,
             "solidity": 0.2
            },
            "type": "scatter"
           }
          ],
          "scatter3d": [
           {
            "line": {
             "colorbar": {
              "outlinewidth": 0,
              "ticks": ""
             }
            },
            "marker": {
             "colorbar": {
              "outlinewidth": 0,
              "ticks": ""
             }
            },
            "type": "scatter3d"
           }
          ],
          "scattercarpet": [
           {
            "marker": {
             "colorbar": {
              "outlinewidth": 0,
              "ticks": ""
             }
            },
            "type": "scattercarpet"
           }
          ],
          "scattergeo": [
           {
            "marker": {
             "colorbar": {
              "outlinewidth": 0,
              "ticks": ""
             }
            },
            "type": "scattergeo"
           }
          ],
          "scattergl": [
           {
            "marker": {
             "colorbar": {
              "outlinewidth": 0,
              "ticks": ""
             }
            },
            "type": "scattergl"
           }
          ],
          "scattermap": [
           {
            "marker": {
             "colorbar": {
              "outlinewidth": 0,
              "ticks": ""
             }
            },
            "type": "scattermap"
           }
          ],
          "scattermapbox": [
           {
            "marker": {
             "colorbar": {
              "outlinewidth": 0,
              "ticks": ""
             }
            },
            "type": "scattermapbox"
           }
          ],
          "scatterpolar": [
           {
            "marker": {
             "colorbar": {
              "outlinewidth": 0,
              "ticks": ""
             }
            },
            "type": "scatterpolar"
           }
          ],
          "scatterpolargl": [
           {
            "marker": {
             "colorbar": {
              "outlinewidth": 0,
              "ticks": ""
             }
            },
            "type": "scatterpolargl"
           }
          ],
          "scatterternary": [
           {
            "marker": {
             "colorbar": {
              "outlinewidth": 0,
              "ticks": ""
             }
            },
            "type": "scatterternary"
           }
          ],
          "surface": [
           {
            "colorbar": {
             "outlinewidth": 0,
             "ticks": ""
            },
            "colorscale": [
             [
              0,
              "#0d0887"
             ],
             [
              0.1111111111111111,
              "#46039f"
             ],
             [
              0.2222222222222222,
              "#7201a8"
             ],
             [
              0.3333333333333333,
              "#9c179e"
             ],
             [
              0.4444444444444444,
              "#bd3786"
             ],
             [
              0.5555555555555556,
              "#d8576b"
             ],
             [
              0.6666666666666666,
              "#ed7953"
             ],
             [
              0.7777777777777778,
              "#fb9f3a"
             ],
             [
              0.8888888888888888,
              "#fdca26"
             ],
             [
              1,
              "#f0f921"
             ]
            ],
            "type": "surface"
           }
          ],
          "table": [
           {
            "cells": {
             "fill": {
              "color": "#EBF0F8"
             },
             "line": {
              "color": "white"
             }
            },
            "header": {
             "fill": {
              "color": "#C8D4E3"
             },
             "line": {
              "color": "white"
             }
            },
            "type": "table"
           }
          ]
         },
         "layout": {
          "annotationdefaults": {
           "arrowcolor": "#2a3f5f",
           "arrowhead": 0,
           "arrowwidth": 1
          },
          "autotypenumbers": "strict",
          "coloraxis": {
           "colorbar": {
            "outlinewidth": 0,
            "ticks": ""
           }
          },
          "colorscale": {
           "diverging": [
            [
             0,
             "#8e0152"
            ],
            [
             0.1,
             "#c51b7d"
            ],
            [
             0.2,
             "#de77ae"
            ],
            [
             0.3,
             "#f1b6da"
            ],
            [
             0.4,
             "#fde0ef"
            ],
            [
             0.5,
             "#f7f7f7"
            ],
            [
             0.6,
             "#e6f5d0"
            ],
            [
             0.7,
             "#b8e186"
            ],
            [
             0.8,
             "#7fbc41"
            ],
            [
             0.9,
             "#4d9221"
            ],
            [
             1,
             "#276419"
            ]
           ],
           "sequential": [
            [
             0,
             "#0d0887"
            ],
            [
             0.1111111111111111,
             "#46039f"
            ],
            [
             0.2222222222222222,
             "#7201a8"
            ],
            [
             0.3333333333333333,
             "#9c179e"
            ],
            [
             0.4444444444444444,
             "#bd3786"
            ],
            [
             0.5555555555555556,
             "#d8576b"
            ],
            [
             0.6666666666666666,
             "#ed7953"
            ],
            [
             0.7777777777777778,
             "#fb9f3a"
            ],
            [
             0.8888888888888888,
             "#fdca26"
            ],
            [
             1,
             "#f0f921"
            ]
           ],
           "sequentialminus": [
            [
             0,
             "#0d0887"
            ],
            [
             0.1111111111111111,
             "#46039f"
            ],
            [
             0.2222222222222222,
             "#7201a8"
            ],
            [
             0.3333333333333333,
             "#9c179e"
            ],
            [
             0.4444444444444444,
             "#bd3786"
            ],
            [
             0.5555555555555556,
             "#d8576b"
            ],
            [
             0.6666666666666666,
             "#ed7953"
            ],
            [
             0.7777777777777778,
             "#fb9f3a"
            ],
            [
             0.8888888888888888,
             "#fdca26"
            ],
            [
             1,
             "#f0f921"
            ]
           ]
          },
          "colorway": [
           "#636efa",
           "#EF553B",
           "#00cc96",
           "#ab63fa",
           "#FFA15A",
           "#19d3f3",
           "#FF6692",
           "#B6E880",
           "#FF97FF",
           "#FECB52"
          ],
          "font": {
           "color": "#2a3f5f"
          },
          "geo": {
           "bgcolor": "white",
           "lakecolor": "white",
           "landcolor": "white",
           "showlakes": true,
           "showland": true,
           "subunitcolor": "#C8D4E3"
          },
          "hoverlabel": {
           "align": "left"
          },
          "hovermode": "closest",
          "mapbox": {
           "style": "light"
          },
          "paper_bgcolor": "white",
          "plot_bgcolor": "white",
          "polar": {
           "angularaxis": {
            "gridcolor": "#EBF0F8",
            "linecolor": "#EBF0F8",
            "ticks": ""
           },
           "bgcolor": "white",
           "radialaxis": {
            "gridcolor": "#EBF0F8",
            "linecolor": "#EBF0F8",
            "ticks": ""
           }
          },
          "scene": {
           "xaxis": {
            "backgroundcolor": "white",
            "gridcolor": "#DFE8F3",
            "gridwidth": 2,
            "linecolor": "#EBF0F8",
            "showbackground": true,
            "ticks": "",
            "zerolinecolor": "#EBF0F8"
           },
           "yaxis": {
            "backgroundcolor": "white",
            "gridcolor": "#DFE8F3",
            "gridwidth": 2,
            "linecolor": "#EBF0F8",
            "showbackground": true,
            "ticks": "",
            "zerolinecolor": "#EBF0F8"
           },
           "zaxis": {
            "backgroundcolor": "white",
            "gridcolor": "#DFE8F3",
            "gridwidth": 2,
            "linecolor": "#EBF0F8",
            "showbackground": true,
            "ticks": "",
            "zerolinecolor": "#EBF0F8"
           }
          },
          "shapedefaults": {
           "line": {
            "color": "#2a3f5f"
           }
          },
          "ternary": {
           "aaxis": {
            "gridcolor": "#DFE8F3",
            "linecolor": "#A2B1C6",
            "ticks": ""
           },
           "baxis": {
            "gridcolor": "#DFE8F3",
            "linecolor": "#A2B1C6",
            "ticks": ""
           },
           "bgcolor": "white",
           "caxis": {
            "gridcolor": "#DFE8F3",
            "linecolor": "#A2B1C6",
            "ticks": ""
           }
          },
          "title": {
           "x": 0.05
          },
          "xaxis": {
           "automargin": true,
           "gridcolor": "#EBF0F8",
           "linecolor": "#EBF0F8",
           "ticks": "",
           "title": {
            "standoff": 15
           },
           "zerolinecolor": "#EBF0F8",
           "zerolinewidth": 2
          },
          "yaxis": {
           "automargin": true,
           "gridcolor": "#EBF0F8",
           "linecolor": "#EBF0F8",
           "ticks": "",
           "title": {
            "standoff": 15
           },
           "zerolinecolor": "#EBF0F8",
           "zerolinewidth": 2
          }
         }
        },
        "title": {
         "text": "Interactive Nitrogen-Vacancy (NV) Center in Diamond"
        }
       }
      }
     },
     "metadata": {},
     "output_type": "display_data"
    }
   ],
   "source": [
    "# Create diamond lattice and NV center\n",
    "positions = create_diamond_lattice(size=2)\n",
    "print(f\"Created diamond lattice with {len(positions)} atoms\")\n",
    "\n",
    "# Find bonds between atoms\n",
    "bonds = find_nearest_neighbors(positions)\n",
    "print(f\"Found {len(bonds)} bonds between atoms\")\n",
    "\n",
    "# Create NV center\n",
    "atom_types, n_idx, v_idx = create_nv_center(positions)\n",
    "print(f\"Created NV center: Nitrogen at index {n_idx}, Vacancy at index {v_idx}\")\n",
    "\n",
    "# Generate interactive 3D visualization\n",
    "fig = interactive_nv_center(positions, atom_types, bonds)\n",
    "fig.show()"
   ]
  },
  {
   "cell_type": "markdown",
   "id": "a46501b2",
   "metadata": {},
   "source": [
    "## Interaction Tips\n",
    "\n",
    "- **Rotate**: Click and drag to rotate the model\n",
    "- **Zoom**: Use the mouse wheel or pinch gesture\n",
    "- **Pan**: Hold Shift while dragging\n",
    "- **Reset view**: Double-click anywhere in the visualization\n",
    "- **Hover**: Move your cursor over atoms to see their type\n",
    "- **Camera Controls**: Use the camera controls in the top-right corner for predefined views\n",
    "- **Save as Image**: Use the camera icon in the toolbar to save the current view as an image\n",
    "\n",
    "You can also switch to a full-screen mode using the expand icon in the top-right of the visualization."
   ]
  }
 ],
 "metadata": {
  "kernelspec": {
   "display_name": "310IA",
   "language": "python",
   "name": "python3"
  },
  "language_info": {
   "codemirror_mode": {
    "name": "ipython",
    "version": 3
   },
   "file_extension": ".py",
   "mimetype": "text/x-python",
   "name": "python",
   "nbconvert_exporter": "python",
   "pygments_lexer": "ipython3",
   "version": "3.10.15"
  }
 },
 "nbformat": 4,
 "nbformat_minor": 5
}
