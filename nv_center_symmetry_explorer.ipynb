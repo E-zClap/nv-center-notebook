{
 "cells": [
  {
   "cell_type": "markdown",
   "id": "7393d4b9",
   "metadata": {},
   "source": [
    "# NV Center Symmetry Explorer\n",
    "\n",
    "This notebook provides an interactive exploration of the NV (nitrogen-vacancy) center symmetries in diamond. The NV center has C3v point group symmetry, consisting of:\n",
    "\n",
    "- **C3 rotations**: 120° and 240° rotations about the NV axis\n",
    "- **σv mirror planes**: Three vertical mirror planes containing the NV axis\n",
    "- **Identity operation**: No change\n",
    "\n",
    "The NV center consists of:\n",
    "- A nitrogen atom substituting for a carbon atom\n",
    "- An adjacent vacancy (missing carbon atom)\n",
    "- Three carbon atoms in tetrahedral arrangement around the vacancy"
   ]
  },
  {
   "cell_type": "markdown",
   "id": "023a1f6d",
   "metadata": {},
   "source": [
    "## Import Required Libraries\n",
    "\n",
    "First, let's import all the necessary libraries for visualization and interaction."
   ]
  },
  {
   "cell_type": "code",
   "execution_count": 13,
   "id": "23fbab1d",
   "metadata": {},
   "outputs": [],
   "source": [
    "import numpy as np\n",
    "import plotly.graph_objects as go\n",
    "import ipywidgets as widgets\n",
    "from IPython.display import display, HTML\n",
    "import time\n",
    "\n",
    "# For compatibility with any remaining matplotlib code\n",
    "import matplotlib.pyplot as plt\n",
    "%matplotlib inline"
   ]
  },
  {
   "cell_type": "markdown",
   "id": "24591580",
   "metadata": {},
   "source": [
    "## NV Center Class Definition\n",
    "\n",
    "Define the main class that handles the NV center structure and symmetry operations."
   ]
  },
  {
   "cell_type": "code",
   "execution_count": 14,
   "id": "f4881de5",
   "metadata": {},
   "outputs": [
    {
     "name": "stdout",
     "output_type": "stream",
     "text": [
      "NV Center class initialized successfully!\n"
     ]
    }
   ],
   "source": [
    "class NVCenterNotebook:\n",
    "    def __init__(self):\n",
    "        # Initialize NV center coordinates\n",
    "        self.setup_nv_center()\n",
    "        \n",
    "        # Create figure and axis\n",
    "        self.fig = None\n",
    "        \n",
    "    def setup_nv_center(self):\n",
    "        \"\"\"Initialize the NV center atomic positions\"\"\"\n",
    "        # Carbon atoms in tetrahedral arrangement around nitrogen\n",
    "        # Three carbons forming equilateral triangle with nitrogen at center\n",
    "        self.carbon_positions = np.array([\n",
    "            [1.0, 0.0, -0.5],      # C1\n",
    "            [-0.5, np.sqrt(3)/2, -0.5],  # C2\n",
    "            [-0.5, -np.sqrt(3)/2, -0.5]  # C3\n",
    "        ])\n",
    "        \n",
    "        # Nitrogen atom position at the center of the three carbons\n",
    "        self.nitrogen_position = np.array([0.0, 0.0, 0.0])\n",
    "        \n",
    "        # Vacancy position along z-axis above the nitrogen\n",
    "        self.vacancy_position = np.array([0.0, 0.0, 1.0])\n",
    "        \n",
    "        # Current positions for animation\n",
    "        self.current_carbon = self.carbon_positions.copy()\n",
    "        self.current_nitrogen = self.nitrogen_position.copy()\n",
    "        self.current_vacancy = self.vacancy_position.copy()\n",
    "        \n",
    "        # Original positions for reset\n",
    "        self.original_carbon = self.carbon_positions.copy()\n",
    "        self.original_nitrogen = self.nitrogen_position.copy()\n",
    "        self.original_vacancy = self.vacancy_position.copy()\n",
    "        \n",
    "    def create_plot(self):\n",
    "        \"\"\"Create a fresh plotly figure\"\"\"\n",
    "        self.fig = go.Figure()\n",
    "        return self.fig\n",
    "        \n",
    "    def plot_nv_center(self, title=\"NV Center Structure (C3v Symmetry)\"):\n",
    "        \"\"\"Plot the NV center structure using Plotly\"\"\"\n",
    "        if self.fig is None:\n",
    "            self.create_plot()\n",
    "            \n",
    "        # Clear existing traces\n",
    "        self.fig.data = []\n",
    "        \n",
    "        # Plot carbon atoms\n",
    "        self.fig.add_trace(go.Scatter3d(\n",
    "            x=self.current_carbon[:, 0], \n",
    "            y=self.current_carbon[:, 1], \n",
    "            z=self.current_carbon[:, 2],\n",
    "            mode='markers',\n",
    "            marker=dict(\n",
    "                size=10,\n",
    "                color='#303030',  # Dark gray\n",
    "                opacity=0.9,\n",
    "                line=dict(color='#606060', width=1)\n",
    "            ),\n",
    "            name='Carbon'\n",
    "        ))\n",
    "        \n",
    "        # Plot nitrogen atom\n",
    "        self.fig.add_trace(go.Scatter3d(\n",
    "            x=[self.current_nitrogen[0]],\n",
    "            y=[self.current_nitrogen[1]],\n",
    "            z=[self.current_nitrogen[2]],\n",
    "            mode='markers',\n",
    "            marker=dict(\n",
    "                size=12,\n",
    "                color='#E63946',  # Crimson red\n",
    "                opacity=1.0,\n",
    "                line=dict(color='#C1121F', width=1)\n",
    "            ),\n",
    "            name='Nitrogen'\n",
    "        ))\n",
    "        \n",
    "        # Plot vacancy\n",
    "        self.fig.add_trace(go.Scatter3d(\n",
    "            x=[self.current_vacancy[0]],\n",
    "            y=[self.current_vacancy[1]],\n",
    "            z=[self.current_vacancy[2]],\n",
    "            mode='markers',\n",
    "            marker=dict(\n",
    "                size=12,\n",
    "                color='#4361EE',  # Royal blue\n",
    "                opacity=0.7,\n",
    "                line=dict(color='#3A0CA3', width=1)\n",
    "            ),\n",
    "            name='Vacancy'\n",
    "        ))\n",
    "        \n",
    "        # Add text labels for atoms\n",
    "        self.fig.add_trace(go.Scatter3d(\n",
    "            x=list(self.current_carbon[:, 0]) + [self.current_nitrogen[0], self.current_vacancy[0]],\n",
    "            y=list(self.current_carbon[:, 1]) + [self.current_nitrogen[1], self.current_vacancy[1]],\n",
    "            z=list(self.current_carbon[:, 2]) + [self.current_nitrogen[2], self.current_vacancy[2]],\n",
    "            mode='text',\n",
    "            text=['C1', 'C2', 'C3', 'N', 'V'],\n",
    "            textposition=\"top center\",\n",
    "            textfont=dict(size=12, color='black'),\n",
    "            name='Labels'\n",
    "        ))\n",
    "        \n",
    "        # Draw bonds\n",
    "        self.draw_bonds()\n",
    "        \n",
    "        # Set layout for a clean, professional look\n",
    "        self.fig.update_layout(\n",
    "            title=title,\n",
    "            scene=dict(\n",
    "                xaxis=dict(showticklabels=True, title='X', range=[-1.5, 1.5]),\n",
    "                yaxis=dict(showticklabels=True, title='Y', range=[-1.5, 1.5]),\n",
    "                zaxis=dict(showticklabels=True, title='Z', range=[-1.5, 1.5]),\n",
    "                aspectmode='cube'\n",
    "            ),\n",
    "            margin=dict(l=0, r=0, b=0, t=30),\n",
    "            legend=dict(x=0.01, y=0.99),\n",
    "            template='plotly_white'\n",
    "        )\n",
    "        \n",
    "        # Set camera position for initial view\n",
    "        self.fig.update_layout(\n",
    "            scene_camera=dict(\n",
    "                up=dict(x=0, y=0, z=1),\n",
    "                center=dict(x=0, y=0, z=0),\n",
    "                eye=dict(x=1.5, y=-1.5, z=1.2)\n",
    "            )\n",
    "        )\n",
    "        \n",
    "        return self.fig\n",
    "        \n",
    "    def draw_bonds(self):\n",
    "        \"\"\"Draw bonds between atoms using Plotly\"\"\"\n",
    "        # Create lines for bonds from nitrogen to carbon atoms\n",
    "        for carbon in self.current_carbon:\n",
    "            x_line = [self.current_nitrogen[0], carbon[0], None]\n",
    "            y_line = [self.current_nitrogen[1], carbon[1], None]\n",
    "            z_line = [self.current_nitrogen[2], carbon[2], None]\n",
    "            \n",
    "            self.fig.add_trace(go.Scatter3d(\n",
    "                x=x_line, y=y_line, z=z_line,\n",
    "                mode='lines',\n",
    "                line=dict(color='#457B9D', width=5, dash='solid'),\n",
    "                hoverinfo='none',\n",
    "                showlegend=False\n",
    "            ))\n",
    "        \n",
    "        # Bond from nitrogen to vacancy\n",
    "        x_line = [self.current_nitrogen[0], self.current_vacancy[0], None]\n",
    "        y_line = [self.current_nitrogen[1], self.current_vacancy[1], None]\n",
    "        z_line = [self.current_nitrogen[2], self.current_vacancy[2], None]\n",
    "        \n",
    "        self.fig.add_trace(go.Scatter3d(\n",
    "            x=x_line, y=y_line, z=z_line,\n",
    "            mode='lines',\n",
    "            line=dict(color='#FF9E00', width=5, dash='solid'),\n",
    "            hoverinfo='none',\n",
    "            name='N-V Bond'\n",
    "        ))\n",
    "        \n",
    "    def rotation_matrix(self, axis, angle):\n",
    "        \"\"\"Create rotation matrix for given axis and angle using Rodrigues' formula\"\"\"\n",
    "        axis = axis / np.linalg.norm(axis)\n",
    "        cos_angle = np.cos(angle)\n",
    "        sin_angle = np.sin(angle)\n",
    "        \n",
    "        # Rodrigues' rotation formula\n",
    "        K = np.array([[0, -axis[2], axis[1]],\n",
    "                     [axis[2], 0, -axis[0]],\n",
    "                     [-axis[1], axis[0], 0]])\n",
    "        \n",
    "        return np.eye(3) + sin_angle * K + (1 - cos_angle) * np.dot(K, K)\n",
    "    \n",
    "    def apply_rotation(self, axis, angle):\n",
    "        \"\"\"Apply rotation to the structure\"\"\"\n",
    "        rot_matrix = self.rotation_matrix(axis, angle)\n",
    "        \n",
    "        # Apply rotation (N and vacancy stay fixed on the rotation axis)\n",
    "        self.current_carbon = np.dot(self.original_carbon, rot_matrix.T)\n",
    "        # Nitrogen and vacancy don't move for C3 rotation about z-axis\n",
    "        self.current_nitrogen = self.original_nitrogen.copy()\n",
    "        self.current_vacancy = self.original_vacancy.copy()\n",
    "        \n",
    "    def apply_reflection(self, reflection_type):\n",
    "        \"\"\"Apply reflection to the structure\"\"\"\n",
    "        if reflection_type == 'v1':\n",
    "            # Reflection matrix for xz plane (y=0)\n",
    "            reflection_matrix = np.array([[1, 0, 0],\n",
    "                                         [0, -1, 0],\n",
    "                                         [0, 0, 1]])\n",
    "        elif reflection_type == 'v2':\n",
    "            # Reflection matrix for plane containing C2 and z-axis\n",
    "            normal = np.array([np.sqrt(3)/2, 0.5, 0])\n",
    "            reflection_matrix = np.eye(3) - 2 * np.outer(normal, normal)\n",
    "        elif reflection_type == 'v3':\n",
    "            # Reflection matrix for plane containing C3 and z-axis\n",
    "            normal = np.array([np.sqrt(3)/2, -0.5, 0])\n",
    "            reflection_matrix = np.eye(3) - 2 * np.outer(normal, normal)\n",
    "        \n",
    "        # Apply reflection\n",
    "        self.current_carbon = np.dot(self.original_carbon, reflection_matrix.T)\n",
    "        self.current_nitrogen = self.original_nitrogen.copy()\n",
    "        self.current_vacancy = self.original_vacancy.copy()\n",
    "        \n",
    "    def reset_positions(self):\n",
    "        \"\"\"Reset to original positions\"\"\"\n",
    "        self.current_carbon = self.original_carbon.copy()\n",
    "        self.current_nitrogen = self.original_nitrogen.copy()\n",
    "        self.current_vacancy = self.original_vacancy.copy()\n",
    "\n",
    "# Create instance\n",
    "nv_center = NVCenterNotebook()\n",
    "print(\"NV Center class initialized successfully!\")"
   ]
  },
  {
   "cell_type": "markdown",
   "id": "a25b0acb",
   "metadata": {},
   "source": [
    "## Initial Structure Visualization\n",
    "\n",
    "Let's first visualize the initial NV center structure before applying any symmetry operations."
   ]
  },
  {
   "cell_type": "code",
   "execution_count": 15,
   "id": "13b095a2",
   "metadata": {},
   "outputs": [
    {
     "data": {
      "application/vnd.plotly.v1+json": {
       "config": {
        "plotlyServerURL": "https://plot.ly"
       },
       "data": [
        {
         "marker": {
          "color": "#303030",
          "line": {
           "color": "#606060",
           "width": 1
          },
          "opacity": 0.9,
          "size": 10
         },
         "mode": "markers",
         "name": "Carbon",
         "type": "scatter3d",
         "x": {
          "bdata": "AAAAAAAA8D8AAAAAAADgvwAAAAAAAOC/",
          "dtype": "f8"
         },
         "y": {
          "bdata": "AAAAAAAAAACqTFjoerbrP6pMWOh6tuu/",
          "dtype": "f8"
         },
         "z": {
          "bdata": "AAAAAAAA4L8AAAAAAADgvwAAAAAAAOC/",
          "dtype": "f8"
         }
        },
        {
         "marker": {
          "color": "#E63946",
          "line": {
           "color": "#C1121F",
           "width": 1
          },
          "opacity": 1,
          "size": 12
         },
         "mode": "markers",
         "name": "Nitrogen",
         "type": "scatter3d",
         "x": [
          0
         ],
         "y": [
          0
         ],
         "z": [
          0
         ]
        },
        {
         "marker": {
          "color": "#4361EE",
          "line": {
           "color": "#3A0CA3",
           "width": 1
          },
          "opacity": 0.7,
          "size": 12
         },
         "mode": "markers",
         "name": "Vacancy",
         "type": "scatter3d",
         "x": [
          0
         ],
         "y": [
          0
         ],
         "z": [
          1
         ]
        },
        {
         "mode": "text",
         "name": "Labels",
         "text": [
          "C1",
          "C2",
          "C3",
          "N",
          "V"
         ],
         "textfont": {
          "color": "black",
          "size": 12
         },
         "textposition": "top center",
         "type": "scatter3d",
         "x": [
          1,
          -0.5,
          -0.5,
          0,
          0
         ],
         "y": [
          0,
          0.8660254037844386,
          -0.8660254037844386,
          0,
          0
         ],
         "z": [
          -0.5,
          -0.5,
          -0.5,
          0,
          1
         ]
        },
        {
         "hoverinfo": "none",
         "line": {
          "color": "#457B9D",
          "dash": "solid",
          "width": 5
         },
         "mode": "lines",
         "showlegend": false,
         "type": "scatter3d",
         "x": [
          0,
          1,
          null
         ],
         "y": [
          0,
          0,
          null
         ],
         "z": [
          0,
          -0.5,
          null
         ]
        },
        {
         "hoverinfo": "none",
         "line": {
          "color": "#457B9D",
          "dash": "solid",
          "width": 5
         },
         "mode": "lines",
         "showlegend": false,
         "type": "scatter3d",
         "x": [
          0,
          -0.5,
          null
         ],
         "y": [
          0,
          0.8660254037844386,
          null
         ],
         "z": [
          0,
          -0.5,
          null
         ]
        },
        {
         "hoverinfo": "none",
         "line": {
          "color": "#457B9D",
          "dash": "solid",
          "width": 5
         },
         "mode": "lines",
         "showlegend": false,
         "type": "scatter3d",
         "x": [
          0,
          -0.5,
          null
         ],
         "y": [
          0,
          -0.8660254037844386,
          null
         ],
         "z": [
          0,
          -0.5,
          null
         ]
        },
        {
         "hoverinfo": "none",
         "line": {
          "color": "#FF9E00",
          "dash": "solid",
          "width": 5
         },
         "mode": "lines",
         "name": "N-V Bond",
         "type": "scatter3d",
         "x": [
          0,
          0,
          null
         ],
         "y": [
          0,
          0,
          null
         ],
         "z": [
          0,
          1,
          null
         ]
        }
       ],
       "layout": {
        "legend": {
         "x": 0.01,
         "y": 0.99
        },
        "margin": {
         "b": 0,
         "l": 0,
         "r": 0,
         "t": 30
        },
        "scene": {
         "aspectmode": "cube",
         "camera": {
          "center": {
           "x": 0,
           "y": 0,
           "z": 0
          },
          "eye": {
           "x": 1.5,
           "y": -1.5,
           "z": 1.2
          },
          "up": {
           "x": 0,
           "y": 0,
           "z": 1
          }
         },
         "xaxis": {
          "range": [
           -1.5,
           1.5
          ],
          "showticklabels": true,
          "title": {
           "text": "X"
          }
         },
         "yaxis": {
          "range": [
           -1.5,
           1.5
          ],
          "showticklabels": true,
          "title": {
           "text": "Y"
          }
         },
         "zaxis": {
          "range": [
           -1.5,
           1.5
          ],
          "showticklabels": true,
          "title": {
           "text": "Z"
          }
         }
        },
        "template": {
         "data": {
          "bar": [
           {
            "error_x": {
             "color": "#2a3f5f"
            },
            "error_y": {
             "color": "#2a3f5f"
            },
            "marker": {
             "line": {
              "color": "white",
              "width": 0.5
             },
             "pattern": {
              "fillmode": "overlay",
              "size": 10,
              "solidity": 0.2
             }
            },
            "type": "bar"
           }
          ],
          "barpolar": [
           {
            "marker": {
             "line": {
              "color": "white",
              "width": 0.5
             },
             "pattern": {
              "fillmode": "overlay",
              "size": 10,
              "solidity": 0.2
             }
            },
            "type": "barpolar"
           }
          ],
          "carpet": [
           {
            "aaxis": {
             "endlinecolor": "#2a3f5f",
             "gridcolor": "#C8D4E3",
             "linecolor": "#C8D4E3",
             "minorgridcolor": "#C8D4E3",
             "startlinecolor": "#2a3f5f"
            },
            "baxis": {
             "endlinecolor": "#2a3f5f",
             "gridcolor": "#C8D4E3",
             "linecolor": "#C8D4E3",
             "minorgridcolor": "#C8D4E3",
             "startlinecolor": "#2a3f5f"
            },
            "type": "carpet"
           }
          ],
          "choropleth": [
           {
            "colorbar": {
             "outlinewidth": 0,
             "ticks": ""
            },
            "type": "choropleth"
           }
          ],
          "contour": [
           {
            "colorbar": {
             "outlinewidth": 0,
             "ticks": ""
            },
            "colorscale": [
             [
              0,
              "#0d0887"
             ],
             [
              0.1111111111111111,
              "#46039f"
             ],
             [
              0.2222222222222222,
              "#7201a8"
             ],
             [
              0.3333333333333333,
              "#9c179e"
             ],
             [
              0.4444444444444444,
              "#bd3786"
             ],
             [
              0.5555555555555556,
              "#d8576b"
             ],
             [
              0.6666666666666666,
              "#ed7953"
             ],
             [
              0.7777777777777778,
              "#fb9f3a"
             ],
             [
              0.8888888888888888,
              "#fdca26"
             ],
             [
              1,
              "#f0f921"
             ]
            ],
            "type": "contour"
           }
          ],
          "contourcarpet": [
           {
            "colorbar": {
             "outlinewidth": 0,
             "ticks": ""
            },
            "type": "contourcarpet"
           }
          ],
          "heatmap": [
           {
            "colorbar": {
             "outlinewidth": 0,
             "ticks": ""
            },
            "colorscale": [
             [
              0,
              "#0d0887"
             ],
             [
              0.1111111111111111,
              "#46039f"
             ],
             [
              0.2222222222222222,
              "#7201a8"
             ],
             [
              0.3333333333333333,
              "#9c179e"
             ],
             [
              0.4444444444444444,
              "#bd3786"
             ],
             [
              0.5555555555555556,
              "#d8576b"
             ],
             [
              0.6666666666666666,
              "#ed7953"
             ],
             [
              0.7777777777777778,
              "#fb9f3a"
             ],
             [
              0.8888888888888888,
              "#fdca26"
             ],
             [
              1,
              "#f0f921"
             ]
            ],
            "type": "heatmap"
           }
          ],
          "histogram": [
           {
            "marker": {
             "pattern": {
              "fillmode": "overlay",
              "size": 10,
              "solidity": 0.2
             }
            },
            "type": "histogram"
           }
          ],
          "histogram2d": [
           {
            "colorbar": {
             "outlinewidth": 0,
             "ticks": ""
            },
            "colorscale": [
             [
              0,
              "#0d0887"
             ],
             [
              0.1111111111111111,
              "#46039f"
             ],
             [
              0.2222222222222222,
              "#7201a8"
             ],
             [
              0.3333333333333333,
              "#9c179e"
             ],
             [
              0.4444444444444444,
              "#bd3786"
             ],
             [
              0.5555555555555556,
              "#d8576b"
             ],
             [
              0.6666666666666666,
              "#ed7953"
             ],
             [
              0.7777777777777778,
              "#fb9f3a"
             ],
             [
              0.8888888888888888,
              "#fdca26"
             ],
             [
              1,
              "#f0f921"
             ]
            ],
            "type": "histogram2d"
           }
          ],
          "histogram2dcontour": [
           {
            "colorbar": {
             "outlinewidth": 0,
             "ticks": ""
            },
            "colorscale": [
             [
              0,
              "#0d0887"
             ],
             [
              0.1111111111111111,
              "#46039f"
             ],
             [
              0.2222222222222222,
              "#7201a8"
             ],
             [
              0.3333333333333333,
              "#9c179e"
             ],
             [
              0.4444444444444444,
              "#bd3786"
             ],
             [
              0.5555555555555556,
              "#d8576b"
             ],
             [
              0.6666666666666666,
              "#ed7953"
             ],
             [
              0.7777777777777778,
              "#fb9f3a"
             ],
             [
              0.8888888888888888,
              "#fdca26"
             ],
             [
              1,
              "#f0f921"
             ]
            ],
            "type": "histogram2dcontour"
           }
          ],
          "mesh3d": [
           {
            "colorbar": {
             "outlinewidth": 0,
             "ticks": ""
            },
            "type": "mesh3d"
           }
          ],
          "parcoords": [
           {
            "line": {
             "colorbar": {
              "outlinewidth": 0,
              "ticks": ""
             }
            },
            "type": "parcoords"
           }
          ],
          "pie": [
           {
            "automargin": true,
            "type": "pie"
           }
          ],
          "scatter": [
           {
            "fillpattern": {
             "fillmode": "overlay",
             "size": 10,
             "solidity": 0.2
            },
            "type": "scatter"
           }
          ],
          "scatter3d": [
           {
            "line": {
             "colorbar": {
              "outlinewidth": 0,
              "ticks": ""
             }
            },
            "marker": {
             "colorbar": {
              "outlinewidth": 0,
              "ticks": ""
             }
            },
            "type": "scatter3d"
           }
          ],
          "scattercarpet": [
           {
            "marker": {
             "colorbar": {
              "outlinewidth": 0,
              "ticks": ""
             }
            },
            "type": "scattercarpet"
           }
          ],
          "scattergeo": [
           {
            "marker": {
             "colorbar": {
              "outlinewidth": 0,
              "ticks": ""
             }
            },
            "type": "scattergeo"
           }
          ],
          "scattergl": [
           {
            "marker": {
             "colorbar": {
              "outlinewidth": 0,
              "ticks": ""
             }
            },
            "type": "scattergl"
           }
          ],
          "scattermap": [
           {
            "marker": {
             "colorbar": {
              "outlinewidth": 0,
              "ticks": ""
             }
            },
            "type": "scattermap"
           }
          ],
          "scattermapbox": [
           {
            "marker": {
             "colorbar": {
              "outlinewidth": 0,
              "ticks": ""
             }
            },
            "type": "scattermapbox"
           }
          ],
          "scatterpolar": [
           {
            "marker": {
             "colorbar": {
              "outlinewidth": 0,
              "ticks": ""
             }
            },
            "type": "scatterpolar"
           }
          ],
          "scatterpolargl": [
           {
            "marker": {
             "colorbar": {
              "outlinewidth": 0,
              "ticks": ""
             }
            },
            "type": "scatterpolargl"
           }
          ],
          "scatterternary": [
           {
            "marker": {
             "colorbar": {
              "outlinewidth": 0,
              "ticks": ""
             }
            },
            "type": "scatterternary"
           }
          ],
          "surface": [
           {
            "colorbar": {
             "outlinewidth": 0,
             "ticks": ""
            },
            "colorscale": [
             [
              0,
              "#0d0887"
             ],
             [
              0.1111111111111111,
              "#46039f"
             ],
             [
              0.2222222222222222,
              "#7201a8"
             ],
             [
              0.3333333333333333,
              "#9c179e"
             ],
             [
              0.4444444444444444,
              "#bd3786"
             ],
             [
              0.5555555555555556,
              "#d8576b"
             ],
             [
              0.6666666666666666,
              "#ed7953"
             ],
             [
              0.7777777777777778,
              "#fb9f3a"
             ],
             [
              0.8888888888888888,
              "#fdca26"
             ],
             [
              1,
              "#f0f921"
             ]
            ],
            "type": "surface"
           }
          ],
          "table": [
           {
            "cells": {
             "fill": {
              "color": "#EBF0F8"
             },
             "line": {
              "color": "white"
             }
            },
            "header": {
             "fill": {
              "color": "#C8D4E3"
             },
             "line": {
              "color": "white"
             }
            },
            "type": "table"
           }
          ]
         },
         "layout": {
          "annotationdefaults": {
           "arrowcolor": "#2a3f5f",
           "arrowhead": 0,
           "arrowwidth": 1
          },
          "autotypenumbers": "strict",
          "coloraxis": {
           "colorbar": {
            "outlinewidth": 0,
            "ticks": ""
           }
          },
          "colorscale": {
           "diverging": [
            [
             0,
             "#8e0152"
            ],
            [
             0.1,
             "#c51b7d"
            ],
            [
             0.2,
             "#de77ae"
            ],
            [
             0.3,
             "#f1b6da"
            ],
            [
             0.4,
             "#fde0ef"
            ],
            [
             0.5,
             "#f7f7f7"
            ],
            [
             0.6,
             "#e6f5d0"
            ],
            [
             0.7,
             "#b8e186"
            ],
            [
             0.8,
             "#7fbc41"
            ],
            [
             0.9,
             "#4d9221"
            ],
            [
             1,
             "#276419"
            ]
           ],
           "sequential": [
            [
             0,
             "#0d0887"
            ],
            [
             0.1111111111111111,
             "#46039f"
            ],
            [
             0.2222222222222222,
             "#7201a8"
            ],
            [
             0.3333333333333333,
             "#9c179e"
            ],
            [
             0.4444444444444444,
             "#bd3786"
            ],
            [
             0.5555555555555556,
             "#d8576b"
            ],
            [
             0.6666666666666666,
             "#ed7953"
            ],
            [
             0.7777777777777778,
             "#fb9f3a"
            ],
            [
             0.8888888888888888,
             "#fdca26"
            ],
            [
             1,
             "#f0f921"
            ]
           ],
           "sequentialminus": [
            [
             0,
             "#0d0887"
            ],
            [
             0.1111111111111111,
             "#46039f"
            ],
            [
             0.2222222222222222,
             "#7201a8"
            ],
            [
             0.3333333333333333,
             "#9c179e"
            ],
            [
             0.4444444444444444,
             "#bd3786"
            ],
            [
             0.5555555555555556,
             "#d8576b"
            ],
            [
             0.6666666666666666,
             "#ed7953"
            ],
            [
             0.7777777777777778,
             "#fb9f3a"
            ],
            [
             0.8888888888888888,
             "#fdca26"
            ],
            [
             1,
             "#f0f921"
            ]
           ]
          },
          "colorway": [
           "#636efa",
           "#EF553B",
           "#00cc96",
           "#ab63fa",
           "#FFA15A",
           "#19d3f3",
           "#FF6692",
           "#B6E880",
           "#FF97FF",
           "#FECB52"
          ],
          "font": {
           "color": "#2a3f5f"
          },
          "geo": {
           "bgcolor": "white",
           "lakecolor": "white",
           "landcolor": "white",
           "showlakes": true,
           "showland": true,
           "subunitcolor": "#C8D4E3"
          },
          "hoverlabel": {
           "align": "left"
          },
          "hovermode": "closest",
          "mapbox": {
           "style": "light"
          },
          "paper_bgcolor": "white",
          "plot_bgcolor": "white",
          "polar": {
           "angularaxis": {
            "gridcolor": "#EBF0F8",
            "linecolor": "#EBF0F8",
            "ticks": ""
           },
           "bgcolor": "white",
           "radialaxis": {
            "gridcolor": "#EBF0F8",
            "linecolor": "#EBF0F8",
            "ticks": ""
           }
          },
          "scene": {
           "xaxis": {
            "backgroundcolor": "white",
            "gridcolor": "#DFE8F3",
            "gridwidth": 2,
            "linecolor": "#EBF0F8",
            "showbackground": true,
            "ticks": "",
            "zerolinecolor": "#EBF0F8"
           },
           "yaxis": {
            "backgroundcolor": "white",
            "gridcolor": "#DFE8F3",
            "gridwidth": 2,
            "linecolor": "#EBF0F8",
            "showbackground": true,
            "ticks": "",
            "zerolinecolor": "#EBF0F8"
           },
           "zaxis": {
            "backgroundcolor": "white",
            "gridcolor": "#DFE8F3",
            "gridwidth": 2,
            "linecolor": "#EBF0F8",
            "showbackground": true,
            "ticks": "",
            "zerolinecolor": "#EBF0F8"
           }
          },
          "shapedefaults": {
           "line": {
            "color": "#2a3f5f"
           }
          },
          "ternary": {
           "aaxis": {
            "gridcolor": "#DFE8F3",
            "linecolor": "#A2B1C6",
            "ticks": ""
           },
           "baxis": {
            "gridcolor": "#DFE8F3",
            "linecolor": "#A2B1C6",
            "ticks": ""
           },
           "bgcolor": "white",
           "caxis": {
            "gridcolor": "#DFE8F3",
            "linecolor": "#A2B1C6",
            "ticks": ""
           }
          },
          "title": {
           "x": 0.05
          },
          "xaxis": {
           "automargin": true,
           "gridcolor": "#EBF0F8",
           "linecolor": "#EBF0F8",
           "ticks": "",
           "title": {
            "standoff": 15
           },
           "zerolinecolor": "#EBF0F8",
           "zerolinewidth": 2
          },
          "yaxis": {
           "automargin": true,
           "gridcolor": "#EBF0F8",
           "linecolor": "#EBF0F8",
           "ticks": "",
           "title": {
            "standoff": 15
           },
           "zerolinecolor": "#EBF0F8",
           "zerolinewidth": 2
          }
         }
        },
        "title": {
         "text": "Initial NV Center Structure"
        }
       }
      }
     },
     "metadata": {},
     "output_type": "display_data"
    },
    {
     "name": "stdout",
     "output_type": "stream",
     "text": [
      "\n",
      "Initial atomic positions:\n",
      "Nitrogen: [0. 0. 0.]\n",
      "Vacancy: [0. 0. 1.]\n",
      "Carbon atoms:\n",
      "  C1: [ 1.   0.  -0.5]\n",
      "  C2: [-0.5        0.8660254 -0.5      ]\n",
      "  C3: [-0.5       -0.8660254 -0.5      ]\n"
     ]
    }
   ],
   "source": [
    "# Plot initial structure\n",
    "fig = nv_center.create_plot()\n",
    "nv_center.plot_nv_center(\"Initial NV Center Structure\")\n",
    "fig.show()\n",
    "\n",
    "print(\"\\nInitial atomic positions:\")\n",
    "print(f\"Nitrogen: {nv_center.nitrogen_position}\")\n",
    "print(f\"Vacancy: {nv_center.vacancy_position}\")\n",
    "print(f\"Carbon atoms:\")\n",
    "for i, carbon in enumerate(nv_center.carbon_positions):\n",
    "    print(f\"  C{i+1}: {carbon}\")"
   ]
  },
  {
   "cell_type": "markdown",
   "id": "caf21243",
   "metadata": {},
   "source": [
    "## Interactive Symmetry Operations\n",
    "\n",
    "Select different symmetry operations from the dropdown menu above to see their effects on the NV center structure. The visualization will update to show how each operation transforms the atomic positions.\n",
    "\n",
    "This interactive approach makes it easier to understand the abstract mathematical symmetry operations through direct visual representation."
   ]
  },
  {
   "cell_type": "code",
   "execution_count": 16,
   "id": "528d0df7",
   "metadata": {},
   "outputs": [
    {
     "data": {
      "application/vnd.jupyter.widget-view+json": {
       "model_id": "8e2b9fded48c4fbe870200d52b94d2af",
       "version_major": 2,
       "version_minor": 0
      },
      "text/plain": [
       "interactive(children=(Dropdown(description='Symmetry Op:', options=('Identity', 'C3 (120°)', 'C3² (240°)', 'σv…"
      ]
     },
     "metadata": {},
     "output_type": "display_data"
    },
    {
     "name": "stdout",
     "output_type": "stream",
     "text": [
      "Use the dropdown menu above to explore different symmetry operations!\n",
      "\n",
      "The interactive Plotly visualization allows you to:\n",
      "- Rotate by clicking and dragging\n",
      "- Zoom with the mouse wheel\n",
      "- Pan by holding Shift while dragging\n",
      "- Reset the view by double-clicking\n"
     ]
    }
   ],
   "source": [
    "def update_plot(operation):\n",
    "    \"\"\"Update the plot based on selected symmetry operation\"\"\"\n",
    "    nv_center.reset_positions()\n",
    "    \n",
    "    if operation == 'Identity':\n",
    "        title = \"Identity Operation (E)\"\n",
    "    elif operation == 'C3 (120°)':\n",
    "        nv_center.apply_rotation([0, 0, 1], 2*np.pi/3)\n",
    "        title = \"C3 Rotation (120°)\"\n",
    "    elif operation == 'C3² (240°)':\n",
    "        nv_center.apply_rotation([0, 0, 1], 4*np.pi/3)\n",
    "        title = \"C3² Rotation (240°)\"\n",
    "    elif operation == 'σv1 Mirror':\n",
    "        nv_center.apply_reflection('v1')\n",
    "        title = \"σv1 Mirror Plane (xz plane)\"\n",
    "    elif operation == 'σv2 Mirror':\n",
    "        nv_center.apply_reflection('v2')\n",
    "        title = \"σv2 Mirror Plane (containing C2)\"\n",
    "    elif operation == 'σv3 Mirror':\n",
    "        nv_center.apply_reflection('v3')\n",
    "        title = \"σv3 Mirror Plane (containing C3)\"\n",
    "    \n",
    "    # Create plot with the applied operation\n",
    "    fig = nv_center.create_plot()\n",
    "    nv_center.plot_nv_center(title)\n",
    "    fig.show()\n",
    "\n",
    "# Create interactive widget\n",
    "symmetry_operations = ['Identity', 'C3 (120°)', 'C3² (240°)', 'σv1 Mirror', 'σv2 Mirror', 'σv3 Mirror']\n",
    "operation_widget = widgets.Dropdown(\n",
    "    options=symmetry_operations,\n",
    "    value='Identity',\n",
    "    description='Symmetry Op:',\n",
    "    style={'description_width': 'initial'}\n",
    ")\n",
    "\n",
    "# Create interactive plot\n",
    "interactive_plot = widgets.interact(update_plot, operation=operation_widget)\n",
    "\n",
    "print(\"Use the dropdown menu above to explore different symmetry operations!\")\n",
    "print(\"\\nThe interactive Plotly visualization allows you to:\")\n",
    "print(\"- Rotate by clicking and dragging\")\n",
    "print(\"- Zoom with the mouse wheel\")\n",
    "print(\"- Pan by holding Shift while dragging\")\n",
    "print(\"- Reset the view by double-clicking\")"
   ]
  },
  {
   "cell_type": "markdown",
   "id": "8e17372c",
   "metadata": {},
   "source": [
    "## Symmetry Analysis\n",
    "\n",
    "Let's analyze how each symmetry operation affects the carbon atoms' positions."
   ]
  },
  {
   "cell_type": "code",
   "execution_count": 17,
   "id": "c4d41b8e",
   "metadata": {},
   "outputs": [
    {
     "name": "stdout",
     "output_type": "stream",
     "text": [
      "Symmetry Operation Analysis:\n",
      "==================================================\n",
      "\n",
      "Identity:\n",
      "  Original C1: [1.000, 0.000, -0.500]\n",
      "  New C1:      [1.000, 0.000, -0.500]\n",
      "  Original C2: [-0.500, 0.866, -0.500]\n",
      "  New C2:      [-0.500, 0.866, -0.500]\n",
      "  Original C3: [-0.500, -0.866, -0.500]\n",
      "  New C3:      [-0.500, -0.866, -0.500]\n",
      "  Atom mapping: C1 → C1, C2 → C2, C3 → C3\n",
      "\n",
      "C3 (120°):\n",
      "  Original C1: [1.000, 0.000, -0.500]\n",
      "  New C1:      [-0.500, 0.866, -0.500]\n",
      "  Original C2: [-0.500, 0.866, -0.500]\n",
      "  New C2:      [-0.500, -0.866, -0.500]\n",
      "  Original C3: [-0.500, -0.866, -0.500]\n",
      "  New C3:      [1.000, -0.000, -0.500]\n",
      "  Atom mapping: C1 → C3, C2 → C1, C3 → C2\n",
      "\n",
      "C3² (240°):\n",
      "  Original C1: [1.000, 0.000, -0.500]\n",
      "  New C1:      [-0.500, -0.866, -0.500]\n",
      "  Original C2: [-0.500, 0.866, -0.500]\n",
      "  New C2:      [1.000, -0.000, -0.500]\n",
      "  Original C3: [-0.500, -0.866, -0.500]\n",
      "  New C3:      [-0.500, 0.866, -0.500]\n",
      "  Atom mapping: C1 → C2, C2 → C3, C3 → C1\n",
      "\n",
      "σv1 Mirror:\n",
      "  Original C1: [1.000, 0.000, -0.500]\n",
      "  New C1:      [1.000, 0.000, -0.500]\n",
      "  Original C2: [-0.500, 0.866, -0.500]\n",
      "  New C2:      [-0.500, -0.866, -0.500]\n",
      "  Original C3: [-0.500, -0.866, -0.500]\n",
      "  New C3:      [-0.500, 0.866, -0.500]\n",
      "  Atom mapping: C1 → C1, C2 → C3, C3 → C2\n",
      "\n",
      "σv2 Mirror:\n",
      "  Original C1: [1.000, 0.000, -0.500]\n",
      "  New C1:      [-0.500, -0.866, -0.500]\n",
      "  Original C2: [-0.500, 0.866, -0.500]\n",
      "  New C2:      [-0.500, 0.866, -0.500]\n",
      "  Original C3: [-0.500, -0.866, -0.500]\n",
      "  New C3:      [1.000, 0.000, -0.500]\n",
      "  Atom mapping: C1 → C3, C2 → C2, C3 → C1\n",
      "\n",
      "σv3 Mirror:\n",
      "  Original C1: [1.000, 0.000, -0.500]\n",
      "  New C1:      [-0.500, 0.866, -0.500]\n",
      "  Original C2: [-0.500, 0.866, -0.500]\n",
      "  New C2:      [1.000, 0.000, -0.500]\n",
      "  Original C3: [-0.500, -0.866, -0.500]\n",
      "  New C3:      [-0.500, -0.866, -0.500]\n",
      "  Atom mapping: C1 → C2, C2 → C1, C3 → C3\n"
     ]
    }
   ],
   "source": [
    "def analyze_symmetry_operations():\n",
    "    \"\"\"Analyze the effect of each symmetry operation on atomic positions\"\"\"\n",
    "    operations = {\n",
    "        'Identity': lambda: None,\n",
    "        'C3 (120°)': lambda: nv_center.apply_rotation([0, 0, 1], 2*np.pi/3),\n",
    "        'C3² (240°)': lambda: nv_center.apply_rotation([0, 0, 1], 4*np.pi/3),\n",
    "        'σv1 Mirror': lambda: nv_center.apply_reflection('v1'),\n",
    "        'σv2 Mirror': lambda: nv_center.apply_reflection('v2'),\n",
    "        'σv3 Mirror': lambda: nv_center.apply_reflection('v3')\n",
    "    }\n",
    "    \n",
    "    print(\"Symmetry Operation Analysis:\")\n",
    "    print(\"=\" * 50)\n",
    "    \n",
    "    original_positions = nv_center.original_carbon.copy()\n",
    "    \n",
    "    for op_name, operation in operations.items():\n",
    "        nv_center.reset_positions()\n",
    "        if operation:\n",
    "            operation()\n",
    "        \n",
    "        print(f\"\\n{op_name}:\")\n",
    "        print(f\"  Original C1: [{original_positions[0][0]:.3f}, {original_positions[0][1]:.3f}, {original_positions[0][2]:.3f}]\")\n",
    "        print(f\"  New C1:      [{nv_center.current_carbon[0][0]:.3f}, {nv_center.current_carbon[0][1]:.3f}, {nv_center.current_carbon[0][2]:.3f}]\")\n",
    "        print(f\"  Original C2: [{original_positions[1][0]:.3f}, {original_positions[1][1]:.3f}, {original_positions[1][2]:.3f}]\")\n",
    "        print(f\"  New C2:      [{nv_center.current_carbon[1][0]:.3f}, {nv_center.current_carbon[1][1]:.3f}, {nv_center.current_carbon[1][2]:.3f}]\")\n",
    "        print(f\"  Original C3: [{original_positions[2][0]:.3f}, {original_positions[2][1]:.3f}, {original_positions[2][2]:.3f}]\")\n",
    "        print(f\"  New C3:      [{nv_center.current_carbon[2][0]:.3f}, {nv_center.current_carbon[2][1]:.3f}, {nv_center.current_carbon[2][2]:.3f}]\")\n",
    "        \n",
    "        # Check which atoms are equivalent after operation\n",
    "        tolerance = 1e-10\n",
    "        equivalences = []\n",
    "        for i in range(3):\n",
    "            for j in range(3):\n",
    "                if np.allclose(original_positions[i], nv_center.current_carbon[j], atol=tolerance):\n",
    "                    equivalences.append(f\"C{i+1} → C{j+1}\")\n",
    "        \n",
    "        print(f\"  Atom mapping: {', '.join(equivalences)}\")\n",
    "\n",
    "analyze_symmetry_operations()"
   ]
  },
  {
   "cell_type": "markdown",
   "id": "f51436f7",
   "metadata": {},
   "source": [
    "## Character Table for C3v Point Group\n",
    "\n",
    "Let's create and display the character table for the C3v point group."
   ]
  },
  {
   "cell_type": "code",
   "execution_count": 18,
   "id": "14241bf1",
   "metadata": {},
   "outputs": [
    {
     "name": "stdout",
     "output_type": "stream",
     "text": [
      "Character Table for C3v Point Group:\n",
      "============================================================\n"
     ]
    },
    {
     "data": {
      "text/html": [
       "<div>\n",
       "<style scoped>\n",
       "    .dataframe tbody tr th:only-of-type {\n",
       "        vertical-align: middle;\n",
       "    }\n",
       "\n",
       "    .dataframe tbody tr th {\n",
       "        vertical-align: top;\n",
       "    }\n",
       "\n",
       "    .dataframe thead th {\n",
       "        text-align: right;\n",
       "    }\n",
       "</style>\n",
       "<table border=\"1\" class=\"dataframe\">\n",
       "  <thead>\n",
       "    <tr style=\"text-align: right;\">\n",
       "      <th></th>\n",
       "      <th>Irrep</th>\n",
       "      <th>E</th>\n",
       "      <th>2C3</th>\n",
       "      <th>3σv</th>\n",
       "      <th>Linear/Rotational</th>\n",
       "      <th>Quadratic</th>\n",
       "    </tr>\n",
       "  </thead>\n",
       "  <tbody>\n",
       "    <tr>\n",
       "      <th>0</th>\n",
       "      <td>A1</td>\n",
       "      <td>1</td>\n",
       "      <td>1</td>\n",
       "      <td>1</td>\n",
       "      <td>z</td>\n",
       "      <td>z²</td>\n",
       "    </tr>\n",
       "    <tr>\n",
       "      <th>1</th>\n",
       "      <td>A2</td>\n",
       "      <td>1</td>\n",
       "      <td>1</td>\n",
       "      <td>-1</td>\n",
       "      <td>Rz</td>\n",
       "      <td></td>\n",
       "    </tr>\n",
       "    <tr>\n",
       "      <th>2</th>\n",
       "      <td>E</td>\n",
       "      <td>2</td>\n",
       "      <td>-1</td>\n",
       "      <td>0</td>\n",
       "      <td>(x,y), (Rx,Ry)</td>\n",
       "      <td>(x²-y², xy), (xz, yz)</td>\n",
       "    </tr>\n",
       "  </tbody>\n",
       "</table>\n",
       "</div>"
      ],
      "text/plain": [
       "  Irrep  E  2C3  3σv Linear/Rotational              Quadratic\n",
       "0    A1  1    1    1                 z                     z²\n",
       "1    A2  1    1   -1                Rz                       \n",
       "2     E  2   -1    0    (x,y), (Rx,Ry)  (x²-y², xy), (xz, yz)"
      ]
     },
     "metadata": {},
     "output_type": "display_data"
    }
   ],
   "source": [
    "import pandas as pd\n",
    "\n",
    "# Create character table for C3v point group\n",
    "character_table = pd.DataFrame({\n",
    "    'Irrep': ['A1', 'A2', 'E'],\n",
    "    'E': [1, 1, 2],\n",
    "    '2C3': [1, 1, -1],\n",
    "    '3σv': [1, -1, 0],\n",
    "    'Linear/Rotational': ['z', 'Rz', '(x,y), (Rx,Ry)'],\n",
    "    'Quadratic': ['z²', '', '(x²-y², xy), (xz, yz)']\n",
    "})\n",
    "\n",
    "print(\"Character Table for C3v Point Group:\")\n",
    "print(\"=\" * 60)\n",
    "display(character_table)"
   ]
  },
  {
   "cell_type": "markdown",
   "id": "bf801d84",
   "metadata": {},
   "source": [
    "### Character Table Explanation\n",
    "\n",
    "- **A1**: Totally symmetric representation\n",
    "- **A2**: Symmetric to rotations, antisymmetric to reflections  \n",
    "- **E**: Doubly degenerate representation\n",
    "- The NV center's electronic states transform according to these irreducible representations"
   ]
  },
  {
   "cell_type": "markdown",
   "id": "29befd0a",
   "metadata": {},
   "source": [
    "## Summary\n",
    "\n",
    "This notebook demonstrates the NV center symmetry operations that you can explore interactively using the dropdown widget above.\n",
    "\n",
    "### Available NV Center Symmetry Operations:\n",
    "\n",
    "1. **Identity (E)**: No change\n",
    "2. **C3 rotation**: 120° rotation about NV axis\n",
    "3. **C3² rotation**: 240° rotation about NV axis  \n",
    "4. **σv1 mirror**: Reflection through xz plane\n",
    "5. **σv2 mirror**: Reflection through plane containing C2\n",
    "6. **σv3 mirror**: Reflection through plane containing C3\n",
    "\n",
    "Use the dropdown widget above to explore different symmetry operations! The symmetry analysis shows how each operation affects the atomic positions."
   ]
  }
 ],
 "metadata": {
  "kernelspec": {
   "display_name": "310IA",
   "language": "python",
   "name": "python3"
  },
  "language_info": {
   "codemirror_mode": {
    "name": "ipython",
    "version": 3
   },
   "file_extension": ".py",
   "mimetype": "text/x-python",
   "name": "python",
   "nbconvert_exporter": "python",
   "pygments_lexer": "ipython3",
   "version": "3.10.15"
  }
 },
 "nbformat": 4,
 "nbformat_minor": 5
}
