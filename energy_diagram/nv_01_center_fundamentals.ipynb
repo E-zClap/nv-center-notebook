{
 "cells": [
  {
   "cell_type": "markdown",
   "id": "29bb551b",
   "metadata": {},
   "source": [
    "# NV Center Fundamentals: Geometry, Electrons, and Symmetry\n",
    "\n",
    "## Overview\n",
    "This notebook covers the fundamental building blocks of understanding NV centers:\n",
    "- **Step 0**: Defect geometry and electron counting\n",
    "- **Step 1**: Molecular orbital construction from symmetry\n",
    "\n",
    "These are the essential foundations that every aspect of the NV center energy diagram builds upon."
   ]
  },
  {
   "cell_type": "markdown",
   "id": "a1846ea3",
   "metadata": {},
   "source": [
    "## Step 0: Know Your Defect and Electron Count\n",
    "\n",
    "### The Raw Defect Structure\n",
    "\n",
    "Before drawing any energy levels, we need to understand what we're working with:\n",
    "\n",
    "| What you learn | Why it matters |\n",
    "|---|---|\n",
    "| Exact atomic layout and crystallographic axis | Sets the symmetry label written next to every electronic term |\n",
    "| Which atoms bring which valence electrons | Lets you count the total electron pool |\n",
    "| Net charge of the center | Decides how many electrons stay on the defect vs. lattice |\n",
    "\n",
    "### Atomic Geometry Inside Diamond\n",
    "\n",
    "#### Building the NV Center Structure\n",
    "\n",
    "1. **Start from pristine diamond**: $sp^3$-bonded face-centered-cubic (FCC) lattice\n",
    "2. **Create the defect pair**:\n",
    "   - Remove one carbon atom → vacancy with three neighboring carbons with dangling $sp^3$ orbitals\n",
    "   - Substitute adjacent carbon with nitrogen atom (N)\n",
    "   - N keeps three tetrahedral bonds, fourth points toward vacancy\n",
    "\n",
    "#### Crystal Structure Visualization\n",
    "\n",
    "The following interactive 3D visualization shows the atomic structure of the NV center in diamond:"
   ]
  },
  {
   "cell_type": "code",
   "execution_count": 26,
   "id": "fb03096d",
   "metadata": {},
   "outputs": [
    {
     "name": "stdout",
     "output_type": "stream",
     "text": [
      "Created diamond lattice with 64 atoms\n",
      "Found 86 bonds between atoms\n",
      "Created NV center: Nitrogen at index 56, Vacancy at index 57\n"
     ]
    },
    {
     "data": {
      "application/vnd.plotly.v1+json": {
       "config": {
        "plotlyServerURL": "https://plot.ly"
       },
       "data": [
        {
         "marker": {
          "color": "#303030",
          "line": {
           "color": "#606060",
           "width": 1
          },
          "opacity": 0.9,
          "size": 10
         },
         "mode": "markers",
         "name": "Carbon",
         "type": "scatter3d",
         "x": {
          "bdata": "AAAAAAAAAACPwvUoXI/sP4/C9Shcj/w/61G4HoVrBUCPwvUoXI/8P+tRuB6FawVAAAAAAAAAAACPwvUoXI/sPwAAAAAAAAAAj8L1KFyP7D+PwvUoXI/8P+tRuB6FawVAj8L1KFyP/D/rUbgehWsFQAAAAAAAAAAAj8L1KFyP7D8AAAAAAAAAAI/C9Shcj+w/j8L1KFyP/D/rUbgehWsFQI/C9Shcj/w/61G4HoVrBUAAAAAAAAAAAI/C9Shcj+w/AAAAAAAAAACPwvUoXI/sP4/C9Shcj/w/61G4HoVrBUCPwvUoXI/8P+tRuB6FawVAAAAAAAAAAACPwvUoXI/sP4/C9ShcjwxAmZmZmZnZEUDrUbgehWsVQD0K16Nw/RhA61G4HoVrFUA9CtejcP0YQI/C9ShcjwxAmZmZmZnZEUCPwvUoXI8MQJmZmZmZ2RFA61G4HoVrFUA9CtejcP0YQOtRuB6FaxVAPQrXo3D9GECPwvUoXI8MQJmZmZmZ2RFAj8L1KFyPDECZmZmZmdkRQOtRuB6FaxVAPQrXo3D9GEDrUbgehWsVQD0K16Nw/RhAj8L1KFyPDECZmZmZmdkRQOtRuB6FaxVAPQrXo3D9GEDrUbgehWsVQD0K16Nw/RhAj8L1KFyPDECZmZmZmdkRQA==",
          "dtype": "f8"
         },
         "y": {
          "bdata": "AAAAAAAAAACPwvUoXI/sP4/C9Shcj/w/61G4HoVrBUAAAAAAAAAAAI/C9Shcj+w/j8L1KFyP/D/rUbgehWsFQAAAAAAAAAAAj8L1KFyP7D+PwvUoXI/8P+tRuB6FawVAAAAAAAAAAACPwvUoXI/sP4/C9Shcj/w/61G4HoVrBUCPwvUoXI8MQJmZmZmZ2RFA61G4HoVrFUA9CtejcP0YQI/C9ShcjwxAmZmZmZnZEUDrUbgehWsVQD0K16Nw/RhAj8L1KFyPDECZmZmZmdkRQOtRuB6FaxVAPQrXo3D9GECPwvUoXI8MQJmZmZmZ2RFA61G4HoVrFUA9CtejcP0YQAAAAAAAAAAAj8L1KFyP7D+PwvUoXI/8P+tRuB6FawVAAAAAAAAAAACPwvUoXI/sP4/C9Shcj/w/61G4HoVrBUAAAAAAAAAAAI/C9Shcj+w/j8L1KFyP/D/rUbgehWsFQAAAAAAAAAAAj8L1KFyP7D+PwvUoXI/8P+tRuB6FawVAj8L1KFyPDECZmZmZmdkRQOtRuB6FaxVAPQrXo3D9GECPwvUoXI8MQJmZmZmZ2RFA61G4HoVrFUA9CtejcP0YQOtRuB6FaxVAPQrXo3D9GECPwvUoXI8MQJmZmZmZ2RFA61G4HoVrFUA9CtejcP0YQA==",
          "dtype": "f8"
         },
         "z": {
          "bdata": "AAAAAAAAAACPwvUoXI/sPwAAAAAAAAAAj8L1KFyP7D+PwvUoXI/8P+tRuB6FawVAj8L1KFyP/D/rUbgehWsFQI/C9ShcjwxAmZmZmZnZEUCPwvUoXI8MQJmZmZmZ2RFA61G4HoVrFUA9CtejcP0YQOtRuB6FaxVAPQrXo3D9GEAAAAAAAAAAAI/C9Shcj+w/AAAAAAAAAACPwvUoXI/sP4/C9Shcj/w/61G4HoVrBUCPwvUoXI/8P+tRuB6FawVAj8L1KFyPDECZmZmZmdkRQI/C9ShcjwxAmZmZmZnZEUDrUbgehWsVQD0K16Nw/RhA61G4HoVrFUA9CtejcP0YQAAAAAAAAAAAj8L1KFyP7D8AAAAAAAAAAI/C9Shcj+w/j8L1KFyP/D/rUbgehWsFQI/C9Shcj/w/61G4HoVrBUCPwvUoXI8MQJmZmZmZ2RFAj8L1KFyPDECZmZmZmdkRQOtRuB6FaxVAPQrXo3D9GEDrUbgehWsVQD0K16Nw/RhAAAAAAAAAAACPwvUoXI/sPwAAAAAAAAAAj8L1KFyP7D+PwvUoXI/8P+tRuB6FawVAj8L1KFyP/D/rUbgehWsFQI/C9ShcjwxAmZmZmZnZEUDrUbgehWsVQD0K16Nw/RhA61G4HoVrFUA9CtejcP0YQA==",
          "dtype": "f8"
         }
        },
        {
         "marker": {
          "color": "#E63946",
          "line": {
           "color": "#C1121F",
           "width": 1
          },
          "opacity": 1,
          "size": 12,
          "symbol": "circle"
         },
         "mode": "markers",
         "name": "Nitrogen",
         "type": "scatter3d",
         "x": [
          3.57
         ],
         "y": [
          3.57
         ],
         "z": [
          3.57
         ]
        },
        {
         "marker": {
          "color": "#4361EE",
          "line": {
           "color": "#3A0CA3",
           "width": 1
          },
          "opacity": 0.7,
          "size": 12,
          "symbol": "circle"
         },
         "mode": "markers",
         "name": "Vacancy",
         "type": "scatter3d",
         "x": [
          4.4624999999999995
         ],
         "y": [
          4.4624999999999995
         ],
         "z": [
          4.4624999999999995
         ]
        },
        {
         "mode": "text",
         "name": "Labels",
         "text": [
          "N",
          "V"
         ],
         "textfont": {
          "color": "black",
          "family": "Arial Black",
          "size": 16
         },
         "textposition": "middle center",
         "type": "scatter3d",
         "x": [
          3.57,
          4.4624999999999995
         ],
         "y": [
          3.57,
          4.4624999999999995
         ],
         "z": [
          3.57,
          4.4624999999999995
         ]
        },
        {
         "hoverinfo": "none",
         "line": {
          "color": [
           "#457B9D",
           "#457B9D",
           "#457B9D",
           "#457B9D",
           "#457B9D",
           "#457B9D",
           "#457B9D",
           "#457B9D",
           "#457B9D",
           "#457B9D",
           "#457B9D",
           "#457B9D",
           "#457B9D",
           "#457B9D",
           "#457B9D",
           "#457B9D",
           "#457B9D",
           "#457B9D",
           "#457B9D",
           "#457B9D",
           "#457B9D",
           "#457B9D",
           "#457B9D",
           "#457B9D",
           "#457B9D",
           "#457B9D",
           "#457B9D",
           "#457B9D",
           "#457B9D",
           "#457B9D",
           "#457B9D",
           "#457B9D",
           "#457B9D",
           "#457B9D",
           "#457B9D",
           "#457B9D",
           "#457B9D",
           "#457B9D",
           "#457B9D",
           "#457B9D",
           "#457B9D",
           "#457B9D",
           "#457B9D",
           "#457B9D",
           "#457B9D",
           "#457B9D",
           "#457B9D",
           "#457B9D",
           "#457B9D",
           "#457B9D",
           "#457B9D",
           "#457B9D",
           "#457B9D",
           "#457B9D",
           "#457B9D",
           "#457B9D",
           "#457B9D",
           "#457B9D",
           "#457B9D",
           "#457B9D",
           "#457B9D",
           "#457B9D",
           "#457B9D",
           "#457B9D",
           "#457B9D",
           "#457B9D",
           "#457B9D",
           "#457B9D",
           "#457B9D",
           "#FF9E00",
           "#FF9E00",
           "#FF9E00",
           "#457B9D",
           "#457B9D",
           "#457B9D",
           "#457B9D",
           "#457B9D",
           "#457B9D",
           "#457B9D",
           "#457B9D",
           "#457B9D",
           "#457B9D",
           "#457B9D",
           "#457B9D",
           "#457B9D",
           "#457B9D",
           "#457B9D",
           "#457B9D",
           "#457B9D",
           "#457B9D",
           "#457B9D",
           "#457B9D",
           "#457B9D",
           "#457B9D",
           "#457B9D",
           "#457B9D",
           "#457B9D",
           "#457B9D",
           "#457B9D",
           "#457B9D",
           "#457B9D",
           "#457B9D",
           "#457B9D",
           "#457B9D",
           "#457B9D",
           "#457B9D",
           "#457B9D",
           "#457B9D",
           "#457B9D",
           "#457B9D",
           "#457B9D",
           "#FF9E00",
           "#FF9E00",
           "#FF9E00",
           "#457B9D",
           "#457B9D",
           "#457B9D",
           "#457B9D",
           "#457B9D",
           "#457B9D",
           "#457B9D",
           "#457B9D",
           "#457B9D",
           "#457B9D",
           "#457B9D",
           "#457B9D",
           "#457B9D",
           "#457B9D",
           "#457B9D",
           "#457B9D",
           "#457B9D",
           "#457B9D",
           "#457B9D",
           "#457B9D",
           "#457B9D",
           "#457B9D",
           "#457B9D",
           "#457B9D",
           "#457B9D",
           "#457B9D",
           "#457B9D",
           "#457B9D",
           "#457B9D",
           "#457B9D",
           "#457B9D",
           "#457B9D",
           "#457B9D",
           "#457B9D",
           "#457B9D",
           "#457B9D",
           "#457B9D",
           "#457B9D",
           "#457B9D",
           "#457B9D",
           "#457B9D",
           "#457B9D",
           "#457B9D",
           "#457B9D",
           "#457B9D",
           "#457B9D",
           "#457B9D",
           "#457B9D",
           "#457B9D",
           "#457B9D",
           "#457B9D",
           "#457B9D",
           "#457B9D",
           "#457B9D",
           "#457B9D",
           "#457B9D",
           "#457B9D",
           "#457B9D",
           "#457B9D",
           "#457B9D",
           "#457B9D",
           "#457B9D",
           "#457B9D",
           "#457B9D",
           "#457B9D",
           "#457B9D",
           "#FF9E00",
           "#FF9E00",
           "#FF9E00",
           "#457B9D",
           "#457B9D",
           "#457B9D",
           "#457B9D",
           "#457B9D",
           "#457B9D",
           "#457B9D",
           "#457B9D",
           "#457B9D",
           "#457B9D",
           "#457B9D",
           "#457B9D",
           "#457B9D",
           "#457B9D",
           "#457B9D",
           "#457B9D",
           "#457B9D",
           "#457B9D",
           "#457B9D",
           "#457B9D",
           "#457B9D",
           "#457B9D",
           "#457B9D",
           "#457B9D",
           "#457B9D",
           "#457B9D",
           "#457B9D",
           "#457B9D",
           "#457B9D",
           "#457B9D",
           "#457B9D",
           "#457B9D",
           "#457B9D",
           "#457B9D",
           "#457B9D",
           "#457B9D",
           "#457B9D",
           "#457B9D",
           "#457B9D",
           "#457B9D",
           "#457B9D",
           "#457B9D",
           "#457B9D",
           "#457B9D",
           "#457B9D",
           "#457B9D",
           "#457B9D",
           "#457B9D",
           "#457B9D",
           "#457B9D",
           "#457B9D",
           "#457B9D",
           "#457B9D",
           "#457B9D",
           "#457B9D",
           "#457B9D",
           "#457B9D",
           "#457B9D",
           "#457B9D",
           "#457B9D",
           "#457B9D",
           "#457B9D",
           "#457B9D"
          ],
          "width": 5
         },
         "mode": "lines",
         "name": "Bonds",
         "type": "scatter3d",
         "x": [
          0,
          0.8925,
          null,
          0.8925,
          1.785,
          null,
          0.8925,
          1.785,
          null,
          0.8925,
          0,
          null,
          1.785,
          2.6774999999999998,
          null,
          2.6774999999999998,
          1.785,
          null,
          2.6774999999999998,
          3.57,
          null,
          2.6774999999999998,
          3.57,
          null,
          1.785,
          2.6774999999999998,
          null,
          2.6774999999999998,
          1.785,
          null,
          2.6774999999999998,
          3.57,
          null,
          2.6774999999999998,
          3.57,
          null,
          0,
          0.8925,
          null,
          0.8925,
          1.785,
          null,
          0.8925,
          1.785,
          null,
          0.8925,
          0,
          null,
          0,
          0.8925,
          null,
          0.8925,
          1.785,
          null,
          0.8925,
          1.785,
          null,
          0.8925,
          0,
          null,
          1.785,
          2.6774999999999998,
          null,
          2.6774999999999998,
          1.785,
          null,
          2.6774999999999998,
          3.57,
          null,
          2.6774999999999998,
          3.57,
          null,
          1.785,
          2.6774999999999998,
          null,
          2.6774999999999998,
          3.57,
          null,
          0,
          0.8925,
          null,
          0.8925,
          1.785,
          null,
          0,
          0.8925,
          null,
          0.8925,
          1.785,
          null,
          0.8925,
          1.785,
          null,
          0.8925,
          0,
          null,
          1.785,
          2.6774999999999998,
          null,
          2.6774999999999998,
          3.57,
          null,
          1.785,
          2.6774999999999998,
          null,
          2.6774999999999998,
          1.785,
          null,
          2.6774999999999998,
          3.57,
          null,
          2.6774999999999998,
          3.57,
          null,
          0,
          0.8925,
          null,
          0.8925,
          1.785,
          null,
          0,
          0.8925,
          null,
          0.8925,
          1.785,
          null,
          0.8925,
          1.785,
          null,
          0.8925,
          0,
          null,
          1.785,
          2.6774999999999998,
          null,
          2.6774999999999998,
          3.57,
          null,
          1.785,
          2.6774999999999998,
          null,
          2.6774999999999998,
          3.57,
          null,
          0,
          0.8925,
          null,
          3.57,
          4.4624999999999995,
          null,
          4.4624999999999995,
          5.3549999999999995,
          null,
          4.4624999999999995,
          5.3549999999999995,
          null,
          4.4624999999999995,
          3.57,
          null,
          5.3549999999999995,
          6.2475,
          null,
          6.2475,
          5.3549999999999995,
          null,
          5.3549999999999995,
          6.2475,
          null,
          6.2475,
          5.3549999999999995,
          null,
          3.57,
          4.4624999999999995,
          null,
          4.4624999999999995,
          5.3549999999999995,
          null,
          4.4624999999999995,
          5.3549999999999995,
          null,
          4.4624999999999995,
          3.57,
          null,
          3.57,
          4.4624999999999995,
          null,
          4.4624999999999995,
          5.3549999999999995,
          null,
          4.4624999999999995,
          5.3549999999999995,
          null,
          4.4624999999999995,
          3.57,
          null,
          5.3549999999999995,
          6.2475,
          null,
          6.2475,
          5.3549999999999995,
          null,
          5.3549999999999995,
          6.2475,
          null,
          3.57,
          4.4624999999999995,
          null,
          4.4624999999999995,
          5.3549999999999995,
          null,
          3.57,
          4.4624999999999995,
          null,
          4.4624999999999995,
          5.3549999999999995,
          null,
          4.4624999999999995,
          5.3549999999999995,
          null,
          4.4624999999999995,
          3.57,
          null,
          5.3549999999999995,
          6.2475,
          null,
          5.3549999999999995,
          6.2475,
          null,
          6.2475,
          5.3549999999999995,
          null,
          3.57,
          4.4624999999999995,
          null,
          4.4624999999999995,
          5.3549999999999995,
          null,
          5.3549999999999995,
          6.2475,
          null,
          5.3549999999999995,
          6.2475,
          null,
          3.57,
          4.4624999999999995,
          null
         ],
         "y": [
          0,
          0.8925,
          null,
          0.8925,
          1.785,
          null,
          0.8925,
          0,
          null,
          0.8925,
          1.785,
          null,
          1.785,
          2.6774999999999998,
          null,
          2.6774999999999998,
          3.57,
          null,
          2.6774999999999998,
          1.785,
          null,
          2.6774999999999998,
          3.57,
          null,
          0,
          0.8925,
          null,
          0.8925,
          1.785,
          null,
          0.8925,
          1.785,
          null,
          0.8925,
          0,
          null,
          1.785,
          2.6774999999999998,
          null,
          2.6774999999999998,
          1.785,
          null,
          2.6774999999999998,
          3.57,
          null,
          2.6774999999999998,
          3.57,
          null,
          0,
          0.8925,
          null,
          0.8925,
          1.785,
          null,
          0.8925,
          0,
          null,
          0.8925,
          1.785,
          null,
          1.785,
          2.6774999999999998,
          null,
          2.6774999999999998,
          3.57,
          null,
          2.6774999999999998,
          1.785,
          null,
          2.6774999999999998,
          3.57,
          null,
          0,
          0.8925,
          null,
          0.8925,
          1.785,
          null,
          1.785,
          2.6774999999999998,
          null,
          2.6774999999999998,
          3.57,
          null,
          3.57,
          4.4624999999999995,
          null,
          4.4624999999999995,
          5.3549999999999995,
          null,
          4.4624999999999995,
          3.57,
          null,
          4.4624999999999995,
          5.3549999999999995,
          null,
          5.3549999999999995,
          6.2475,
          null,
          6.2475,
          5.3549999999999995,
          null,
          3.57,
          4.4624999999999995,
          null,
          4.4624999999999995,
          5.3549999999999995,
          null,
          4.4624999999999995,
          5.3549999999999995,
          null,
          4.4624999999999995,
          3.57,
          null,
          5.3549999999999995,
          6.2475,
          null,
          6.2475,
          5.3549999999999995,
          null,
          3.57,
          4.4624999999999995,
          null,
          4.4624999999999995,
          5.3549999999999995,
          null,
          4.4624999999999995,
          3.57,
          null,
          4.4624999999999995,
          5.3549999999999995,
          null,
          5.3549999999999995,
          6.2475,
          null,
          6.2475,
          5.3549999999999995,
          null,
          3.57,
          4.4624999999999995,
          null,
          4.4624999999999995,
          5.3549999999999995,
          null,
          5.3549999999999995,
          6.2475,
          null,
          0,
          0.8925,
          null,
          0.8925,
          1.785,
          null,
          0.8925,
          0,
          null,
          0.8925,
          1.785,
          null,
          1.785,
          2.6774999999999998,
          null,
          2.6774999999999998,
          3.57,
          null,
          0,
          0.8925,
          null,
          0.8925,
          1.785,
          null,
          1.785,
          2.6774999999999998,
          null,
          2.6774999999999998,
          1.785,
          null,
          2.6774999999999998,
          3.57,
          null,
          2.6774999999999998,
          3.57,
          null,
          0,
          0.8925,
          null,
          0.8925,
          1.785,
          null,
          0.8925,
          0,
          null,
          0.8925,
          1.785,
          null,
          1.785,
          2.6774999999999998,
          null,
          2.6774999999999998,
          3.57,
          null,
          0,
          0.8925,
          null,
          1.785,
          2.6774999999999998,
          null,
          2.6774999999999998,
          3.57,
          null,
          3.57,
          4.4624999999999995,
          null,
          4.4624999999999995,
          5.3549999999999995,
          null,
          4.4624999999999995,
          3.57,
          null,
          4.4624999999999995,
          5.3549999999999995,
          null,
          5.3549999999999995,
          6.2475,
          null,
          3.57,
          4.4624999999999995,
          null,
          4.4624999999999995,
          5.3549999999999995,
          null,
          5.3549999999999995,
          6.2475,
          null,
          6.2475,
          5.3549999999999995,
          null,
          5.3549999999999995,
          6.2475,
          null,
          3.57,
          4.4624999999999995,
          null,
          5.3549999999999995,
          6.2475,
          null
         ],
         "z": [
          0,
          0.8925,
          null,
          0.8925,
          0,
          null,
          0.8925,
          1.785,
          null,
          0.8925,
          1.785,
          null,
          0,
          0.8925,
          null,
          0.8925,
          1.785,
          null,
          0.8925,
          1.785,
          null,
          0.8925,
          0,
          null,
          1.785,
          2.6774999999999998,
          null,
          2.6774999999999998,
          3.57,
          null,
          2.6774999999999998,
          1.785,
          null,
          2.6774999999999998,
          3.57,
          null,
          1.785,
          2.6774999999999998,
          null,
          2.6774999999999998,
          3.57,
          null,
          2.6774999999999998,
          1.785,
          null,
          2.6774999999999998,
          3.57,
          null,
          3.57,
          4.4624999999999995,
          null,
          4.4624999999999995,
          3.57,
          null,
          4.4624999999999995,
          5.3549999999999995,
          null,
          4.4624999999999995,
          5.3549999999999995,
          null,
          3.57,
          4.4624999999999995,
          null,
          4.4624999999999995,
          5.3549999999999995,
          null,
          4.4624999999999995,
          5.3549999999999995,
          null,
          4.4624999999999995,
          3.57,
          null,
          5.3549999999999995,
          6.2475,
          null,
          6.2475,
          5.3549999999999995,
          null,
          5.3549999999999995,
          6.2475,
          null,
          6.2475,
          5.3549999999999995,
          null,
          0,
          0.8925,
          null,
          0.8925,
          0,
          null,
          0.8925,
          1.785,
          null,
          0.8925,
          1.785,
          null,
          0,
          0.8925,
          null,
          0.8925,
          1.785,
          null,
          1.785,
          2.6774999999999998,
          null,
          2.6774999999999998,
          3.57,
          null,
          2.6774999999999998,
          1.785,
          null,
          2.6774999999999998,
          3.57,
          null,
          1.785,
          2.6774999999999998,
          null,
          2.6774999999999998,
          3.57,
          null,
          3.57,
          4.4624999999999995,
          null,
          4.4624999999999995,
          3.57,
          null,
          4.4624999999999995,
          5.3549999999999995,
          null,
          4.4624999999999995,
          5.3549999999999995,
          null,
          3.57,
          4.4624999999999995,
          null,
          4.4624999999999995,
          5.3549999999999995,
          null,
          5.3549999999999995,
          6.2475,
          null,
          6.2475,
          5.3549999999999995,
          null,
          5.3549999999999995,
          6.2475,
          null,
          0,
          0.8925,
          null,
          0.8925,
          0,
          null,
          0.8925,
          1.785,
          null,
          0.8925,
          1.785,
          null,
          0,
          0.8925,
          null,
          0.8925,
          1.785,
          null,
          1.785,
          2.6774999999999998,
          null,
          2.6774999999999998,
          3.57,
          null,
          1.785,
          2.6774999999999998,
          null,
          2.6774999999999998,
          3.57,
          null,
          2.6774999999999998,
          1.785,
          null,
          2.6774999999999998,
          3.57,
          null,
          3.57,
          4.4624999999999995,
          null,
          4.4624999999999995,
          3.57,
          null,
          4.4624999999999995,
          5.3549999999999995,
          null,
          4.4624999999999995,
          5.3549999999999995,
          null,
          3.57,
          4.4624999999999995,
          null,
          4.4624999999999995,
          5.3549999999999995,
          null,
          5.3549999999999995,
          6.2475,
          null,
          5.3549999999999995,
          6.2475,
          null,
          6.2475,
          5.3549999999999995,
          null,
          0,
          0.8925,
          null,
          0.8925,
          0,
          null,
          0.8925,
          1.785,
          null,
          0.8925,
          1.785,
          null,
          0,
          0.8925,
          null,
          1.785,
          2.6774999999999998,
          null,
          2.6774999999999998,
          3.57,
          null,
          1.785,
          2.6774999999999998,
          null,
          2.6774999999999998,
          3.57,
          null,
          3.57,
          4.4624999999999995,
          null,
          5.3549999999999995,
          6.2475,
          null,
          5.3549999999999995,
          6.2475,
          null
         ]
        },
        {
         "hoverinfo": "none",
         "line": {
          "color": "#AAAAAA",
          "dash": "dot",
          "width": 2
         },
         "mode": "lines",
         "name": "Unit Cell",
         "type": "scatter3d",
         "x": [
          -1,
          7.2475,
          null,
          7.2475,
          7.2475,
          null,
          7.2475,
          -1,
          null,
          -1,
          -1,
          null,
          -1,
          7.2475,
          null,
          7.2475,
          7.2475,
          null,
          7.2475,
          -1,
          null,
          -1,
          -1,
          null,
          -1,
          -1,
          null,
          7.2475,
          7.2475,
          null,
          7.2475,
          7.2475,
          null,
          -1,
          -1,
          null
         ],
         "y": [
          -1,
          -1,
          null,
          -1,
          7.2475,
          null,
          7.2475,
          7.2475,
          null,
          7.2475,
          -1,
          null,
          -1,
          -1,
          null,
          -1,
          7.2475,
          null,
          7.2475,
          7.2475,
          null,
          7.2475,
          -1,
          null,
          -1,
          -1,
          null,
          -1,
          -1,
          null,
          7.2475,
          7.2475,
          null,
          7.2475,
          7.2475,
          null
         ],
         "z": [
          -1,
          -1,
          null,
          -1,
          -1,
          null,
          -1,
          -1,
          null,
          -1,
          -1,
          null,
          7.2475,
          7.2475,
          null,
          7.2475,
          7.2475,
          null,
          7.2475,
          7.2475,
          null,
          7.2475,
          7.2475,
          null,
          -1,
          7.2475,
          null,
          -1,
          7.2475,
          null,
          -1,
          7.2475,
          null,
          -1,
          7.2475,
          null
         ]
        }
       ],
       "layout": {
        "legend": {
         "bordercolor": "#AAAAAA",
         "borderwidth": 1,
         "x": 0.01,
         "y": 0.99
        },
        "margin": {
         "b": 0,
         "l": 0,
         "r": 0,
         "t": 30
        },
        "scene": {
         "aspectmode": "data",
         "camera": {
          "center": {
           "x": 0,
           "y": 0,
           "z": 0
          },
          "eye": {
           "x": 1,
           "y": -1,
           "z": 1
          },
          "up": {
           "x": 0,
           "y": 0,
           "z": 1
          }
         },
         "xaxis": {
          "showgrid": false,
          "showline": false,
          "showticklabels": false,
          "title": {
           "text": ""
          },
          "zeroline": false
         },
         "yaxis": {
          "showgrid": false,
          "showline": false,
          "showticklabels": false,
          "title": {
           "text": ""
          },
          "zeroline": false
         },
         "zaxis": {
          "showgrid": false,
          "showline": false,
          "showticklabels": false,
          "title": {
           "text": ""
          },
          "zeroline": false
         }
        },
        "template": {
         "data": {
          "bar": [
           {
            "error_x": {
             "color": "#2a3f5f"
            },
            "error_y": {
             "color": "#2a3f5f"
            },
            "marker": {
             "line": {
              "color": "white",
              "width": 0.5
             },
             "pattern": {
              "fillmode": "overlay",
              "size": 10,
              "solidity": 0.2
             }
            },
            "type": "bar"
           }
          ],
          "barpolar": [
           {
            "marker": {
             "line": {
              "color": "white",
              "width": 0.5
             },
             "pattern": {
              "fillmode": "overlay",
              "size": 10,
              "solidity": 0.2
             }
            },
            "type": "barpolar"
           }
          ],
          "carpet": [
           {
            "aaxis": {
             "endlinecolor": "#2a3f5f",
             "gridcolor": "#C8D4E3",
             "linecolor": "#C8D4E3",
             "minorgridcolor": "#C8D4E3",
             "startlinecolor": "#2a3f5f"
            },
            "baxis": {
             "endlinecolor": "#2a3f5f",
             "gridcolor": "#C8D4E3",
             "linecolor": "#C8D4E3",
             "minorgridcolor": "#C8D4E3",
             "startlinecolor": "#2a3f5f"
            },
            "type": "carpet"
           }
          ],
          "choropleth": [
           {
            "colorbar": {
             "outlinewidth": 0,
             "ticks": ""
            },
            "type": "choropleth"
           }
          ],
          "contour": [
           {
            "colorbar": {
             "outlinewidth": 0,
             "ticks": ""
            },
            "colorscale": [
             [
              0,
              "#0d0887"
             ],
             [
              0.1111111111111111,
              "#46039f"
             ],
             [
              0.2222222222222222,
              "#7201a8"
             ],
             [
              0.3333333333333333,
              "#9c179e"
             ],
             [
              0.4444444444444444,
              "#bd3786"
             ],
             [
              0.5555555555555556,
              "#d8576b"
             ],
             [
              0.6666666666666666,
              "#ed7953"
             ],
             [
              0.7777777777777778,
              "#fb9f3a"
             ],
             [
              0.8888888888888888,
              "#fdca26"
             ],
             [
              1,
              "#f0f921"
             ]
            ],
            "type": "contour"
           }
          ],
          "contourcarpet": [
           {
            "colorbar": {
             "outlinewidth": 0,
             "ticks": ""
            },
            "type": "contourcarpet"
           }
          ],
          "heatmap": [
           {
            "colorbar": {
             "outlinewidth": 0,
             "ticks": ""
            },
            "colorscale": [
             [
              0,
              "#0d0887"
             ],
             [
              0.1111111111111111,
              "#46039f"
             ],
             [
              0.2222222222222222,
              "#7201a8"
             ],
             [
              0.3333333333333333,
              "#9c179e"
             ],
             [
              0.4444444444444444,
              "#bd3786"
             ],
             [
              0.5555555555555556,
              "#d8576b"
             ],
             [
              0.6666666666666666,
              "#ed7953"
             ],
             [
              0.7777777777777778,
              "#fb9f3a"
             ],
             [
              0.8888888888888888,
              "#fdca26"
             ],
             [
              1,
              "#f0f921"
             ]
            ],
            "type": "heatmap"
           }
          ],
          "histogram": [
           {
            "marker": {
             "pattern": {
              "fillmode": "overlay",
              "size": 10,
              "solidity": 0.2
             }
            },
            "type": "histogram"
           }
          ],
          "histogram2d": [
           {
            "colorbar": {
             "outlinewidth": 0,
             "ticks": ""
            },
            "colorscale": [
             [
              0,
              "#0d0887"
             ],
             [
              0.1111111111111111,
              "#46039f"
             ],
             [
              0.2222222222222222,
              "#7201a8"
             ],
             [
              0.3333333333333333,
              "#9c179e"
             ],
             [
              0.4444444444444444,
              "#bd3786"
             ],
             [
              0.5555555555555556,
              "#d8576b"
             ],
             [
              0.6666666666666666,
              "#ed7953"
             ],
             [
              0.7777777777777778,
              "#fb9f3a"
             ],
             [
              0.8888888888888888,
              "#fdca26"
             ],
             [
              1,
              "#f0f921"
             ]
            ],
            "type": "histogram2d"
           }
          ],
          "histogram2dcontour": [
           {
            "colorbar": {
             "outlinewidth": 0,
             "ticks": ""
            },
            "colorscale": [
             [
              0,
              "#0d0887"
             ],
             [
              0.1111111111111111,
              "#46039f"
             ],
             [
              0.2222222222222222,
              "#7201a8"
             ],
             [
              0.3333333333333333,
              "#9c179e"
             ],
             [
              0.4444444444444444,
              "#bd3786"
             ],
             [
              0.5555555555555556,
              "#d8576b"
             ],
             [
              0.6666666666666666,
              "#ed7953"
             ],
             [
              0.7777777777777778,
              "#fb9f3a"
             ],
             [
              0.8888888888888888,
              "#fdca26"
             ],
             [
              1,
              "#f0f921"
             ]
            ],
            "type": "histogram2dcontour"
           }
          ],
          "mesh3d": [
           {
            "colorbar": {
             "outlinewidth": 0,
             "ticks": ""
            },
            "type": "mesh3d"
           }
          ],
          "parcoords": [
           {
            "line": {
             "colorbar": {
              "outlinewidth": 0,
              "ticks": ""
             }
            },
            "type": "parcoords"
           }
          ],
          "pie": [
           {
            "automargin": true,
            "type": "pie"
           }
          ],
          "scatter": [
           {
            "fillpattern": {
             "fillmode": "overlay",
             "size": 10,
             "solidity": 0.2
            },
            "type": "scatter"
           }
          ],
          "scatter3d": [
           {
            "line": {
             "colorbar": {
              "outlinewidth": 0,
              "ticks": ""
             }
            },
            "marker": {
             "colorbar": {
              "outlinewidth": 0,
              "ticks": ""
             }
            },
            "type": "scatter3d"
           }
          ],
          "scattercarpet": [
           {
            "marker": {
             "colorbar": {
              "outlinewidth": 0,
              "ticks": ""
             }
            },
            "type": "scattercarpet"
           }
          ],
          "scattergeo": [
           {
            "marker": {
             "colorbar": {
              "outlinewidth": 0,
              "ticks": ""
             }
            },
            "type": "scattergeo"
           }
          ],
          "scattergl": [
           {
            "marker": {
             "colorbar": {
              "outlinewidth": 0,
              "ticks": ""
             }
            },
            "type": "scattergl"
           }
          ],
          "scattermap": [
           {
            "marker": {
             "colorbar": {
              "outlinewidth": 0,
              "ticks": ""
             }
            },
            "type": "scattermap"
           }
          ],
          "scattermapbox": [
           {
            "marker": {
             "colorbar": {
              "outlinewidth": 0,
              "ticks": ""
             }
            },
            "type": "scattermapbox"
           }
          ],
          "scatterpolar": [
           {
            "marker": {
             "colorbar": {
              "outlinewidth": 0,
              "ticks": ""
             }
            },
            "type": "scatterpolar"
           }
          ],
          "scatterpolargl": [
           {
            "marker": {
             "colorbar": {
              "outlinewidth": 0,
              "ticks": ""
             }
            },
            "type": "scatterpolargl"
           }
          ],
          "scatterternary": [
           {
            "marker": {
             "colorbar": {
              "outlinewidth": 0,
              "ticks": ""
             }
            },
            "type": "scatterternary"
           }
          ],
          "surface": [
           {
            "colorbar": {
             "outlinewidth": 0,
             "ticks": ""
            },
            "colorscale": [
             [
              0,
              "#0d0887"
             ],
             [
              0.1111111111111111,
              "#46039f"
             ],
             [
              0.2222222222222222,
              "#7201a8"
             ],
             [
              0.3333333333333333,
              "#9c179e"
             ],
             [
              0.4444444444444444,
              "#bd3786"
             ],
             [
              0.5555555555555556,
              "#d8576b"
             ],
             [
              0.6666666666666666,
              "#ed7953"
             ],
             [
              0.7777777777777778,
              "#fb9f3a"
             ],
             [
              0.8888888888888888,
              "#fdca26"
             ],
             [
              1,
              "#f0f921"
             ]
            ],
            "type": "surface"
           }
          ],
          "table": [
           {
            "cells": {
             "fill": {
              "color": "#EBF0F8"
             },
             "line": {
              "color": "white"
             }
            },
            "header": {
             "fill": {
              "color": "#C8D4E3"
             },
             "line": {
              "color": "white"
             }
            },
            "type": "table"
           }
          ]
         },
         "layout": {
          "annotationdefaults": {
           "arrowcolor": "#2a3f5f",
           "arrowhead": 0,
           "arrowwidth": 1
          },
          "autotypenumbers": "strict",
          "coloraxis": {
           "colorbar": {
            "outlinewidth": 0,
            "ticks": ""
           }
          },
          "colorscale": {
           "diverging": [
            [
             0,
             "#8e0152"
            ],
            [
             0.1,
             "#c51b7d"
            ],
            [
             0.2,
             "#de77ae"
            ],
            [
             0.3,
             "#f1b6da"
            ],
            [
             0.4,
             "#fde0ef"
            ],
            [
             0.5,
             "#f7f7f7"
            ],
            [
             0.6,
             "#e6f5d0"
            ],
            [
             0.7,
             "#b8e186"
            ],
            [
             0.8,
             "#7fbc41"
            ],
            [
             0.9,
             "#4d9221"
            ],
            [
             1,
             "#276419"
            ]
           ],
           "sequential": [
            [
             0,
             "#0d0887"
            ],
            [
             0.1111111111111111,
             "#46039f"
            ],
            [
             0.2222222222222222,
             "#7201a8"
            ],
            [
             0.3333333333333333,
             "#9c179e"
            ],
            [
             0.4444444444444444,
             "#bd3786"
            ],
            [
             0.5555555555555556,
             "#d8576b"
            ],
            [
             0.6666666666666666,
             "#ed7953"
            ],
            [
             0.7777777777777778,
             "#fb9f3a"
            ],
            [
             0.8888888888888888,
             "#fdca26"
            ],
            [
             1,
             "#f0f921"
            ]
           ],
           "sequentialminus": [
            [
             0,
             "#0d0887"
            ],
            [
             0.1111111111111111,
             "#46039f"
            ],
            [
             0.2222222222222222,
             "#7201a8"
            ],
            [
             0.3333333333333333,
             "#9c179e"
            ],
            [
             0.4444444444444444,
             "#bd3786"
            ],
            [
             0.5555555555555556,
             "#d8576b"
            ],
            [
             0.6666666666666666,
             "#ed7953"
            ],
            [
             0.7777777777777778,
             "#fb9f3a"
            ],
            [
             0.8888888888888888,
             "#fdca26"
            ],
            [
             1,
             "#f0f921"
            ]
           ]
          },
          "colorway": [
           "#636efa",
           "#EF553B",
           "#00cc96",
           "#ab63fa",
           "#FFA15A",
           "#19d3f3",
           "#FF6692",
           "#B6E880",
           "#FF97FF",
           "#FECB52"
          ],
          "font": {
           "color": "#2a3f5f"
          },
          "geo": {
           "bgcolor": "white",
           "lakecolor": "white",
           "landcolor": "white",
           "showlakes": true,
           "showland": true,
           "subunitcolor": "#C8D4E3"
          },
          "hoverlabel": {
           "align": "left"
          },
          "hovermode": "closest",
          "mapbox": {
           "style": "light"
          },
          "paper_bgcolor": "white",
          "plot_bgcolor": "white",
          "polar": {
           "angularaxis": {
            "gridcolor": "#EBF0F8",
            "linecolor": "#EBF0F8",
            "ticks": ""
           },
           "bgcolor": "white",
           "radialaxis": {
            "gridcolor": "#EBF0F8",
            "linecolor": "#EBF0F8",
            "ticks": ""
           }
          },
          "scene": {
           "xaxis": {
            "backgroundcolor": "white",
            "gridcolor": "#DFE8F3",
            "gridwidth": 2,
            "linecolor": "#EBF0F8",
            "showbackground": true,
            "ticks": "",
            "zerolinecolor": "#EBF0F8"
           },
           "yaxis": {
            "backgroundcolor": "white",
            "gridcolor": "#DFE8F3",
            "gridwidth": 2,
            "linecolor": "#EBF0F8",
            "showbackground": true,
            "ticks": "",
            "zerolinecolor": "#EBF0F8"
           },
           "zaxis": {
            "backgroundcolor": "white",
            "gridcolor": "#DFE8F3",
            "gridwidth": 2,
            "linecolor": "#EBF0F8",
            "showbackground": true,
            "ticks": "",
            "zerolinecolor": "#EBF0F8"
           }
          },
          "shapedefaults": {
           "line": {
            "color": "#2a3f5f"
           }
          },
          "ternary": {
           "aaxis": {
            "gridcolor": "#DFE8F3",
            "linecolor": "#A2B1C6",
            "ticks": ""
           },
           "baxis": {
            "gridcolor": "#DFE8F3",
            "linecolor": "#A2B1C6",
            "ticks": ""
           },
           "bgcolor": "white",
           "caxis": {
            "gridcolor": "#DFE8F3",
            "linecolor": "#A2B1C6",
            "ticks": ""
           }
          },
          "title": {
           "x": 0.05
          },
          "xaxis": {
           "automargin": true,
           "gridcolor": "#EBF0F8",
           "linecolor": "#EBF0F8",
           "ticks": "",
           "title": {
            "standoff": 15
           },
           "zerolinecolor": "#EBF0F8",
           "zerolinewidth": 2
          },
          "yaxis": {
           "automargin": true,
           "gridcolor": "#EBF0F8",
           "linecolor": "#EBF0F8",
           "ticks": "",
           "title": {
            "standoff": 15
           },
           "zerolinecolor": "#EBF0F8",
           "zerolinewidth": 2
          }
         }
        },
        "title": {
         "text": "Interactive Nitrogen-Vacancy (NV) Center in Diamond"
        }
       }
      }
     },
     "metadata": {},
     "output_type": "display_data"
    }
   ],
   "source": [
    "# Import visualization utilities\n",
    "import sys\n",
    "sys.path.append('code')  # Add the code directory to path\n",
    "from nv_visualization_utils import create_nv_center_demo, create_nv_center_full\n",
    "\n",
    "from ipywidgets import interactive, Dropdown, VBox, Layout\n",
    "\n",
    "fig = create_nv_center_demo()\n",
    "\n",
    "# Display the plot\n",
    "fig.show()"
   ]
  },
  {
   "cell_type": "markdown",
   "id": "2badbb5e",
   "metadata": {},
   "source": [
    "## Interaction Tips\n",
    "\n",
    "- **Rotate**: Click and drag to rotate the model\n",
    "- **Zoom**: Use the mouse wheel or pinch gesture\n",
    "- **Pan**: Hold Shift while dragging\n",
    "- **Reset view**: Double-click anywhere in the visualization\n",
    "- **Hover**: Move your cursor over atoms to see their type\n",
    "- **Camera Controls**: Use the camera controls in the top-right corner for predefined views\n",
    "- **Save as Image**: Use the camera icon in the toolbar to save the current view as an image\n",
    "\n",
    "You can also switch to a full-screen mode using the expand icon in the top-right of the visualization."
   ]
  },
  {
   "cell_type": "markdown",
   "id": "a6ff6a50",
   "metadata": {},
   "source": [
    "#### Symmetry Analysis\n",
    "\n",
    "Now that we can visualize the structure, let's analyze its symmetry properties:\n",
    "\n",
    "3. **Identify the symmetry**: The N–V pair plus three equivalent carbons form a trigonal pyramid\n",
    "   - **Rotation**: 120° about the N→V line\n",
    "   - **Mirrors**: three $\\sigma$ planes through that axis\n",
    "   - **Point group**: $C_{3v}$\n",
    "\n",
    "#### Interactive Symmetry Explorer\n",
    "\n",
    "The following tool allows you to explore the symmetry operations of the NV center:"
   ]
  },
  {
   "cell_type": "code",
   "execution_count": null,
   "id": "acf2acc0",
   "metadata": {},
   "outputs": [
    {
     "data": {
      "application/vnd.jupyter.widget-view+json": {
       "model_id": "e07d5ae9e15340edaa6cab1b79e0989e",
       "version_major": 2,
       "version_minor": 0
      },
      "text/plain": [
       "interactive(children=(Dropdown(description='Symmetry Op:', options=('Identity', 'C3 (120°)', 'C3² (240°)', 'σv…"
      ]
     },
     "metadata": {},
     "output_type": "display_data"
    },
    {
     "name": "stdout",
     "output_type": "stream",
     "text": [
      "✅ Interactive NV center symmetry explorer is ready!\n",
      "\n",
      "Use the dropdown menu above to explore different symmetry operations!\n",
      "\n",
      "The interactive Plotly visualization allows you to:\n",
      "- Rotate by clicking and dragging\n",
      "- Zoom with the mouse wheel\n",
      "- Pan by holding Shift while dragging\n",
      "- Reset the view by double-clicking\n"
     ]
    }
   ],
   "source": [
    "# Import the symmetry explorer module\n",
    "import sys\n",
    "sys.path.append('code')  # Add the code directory to path\n",
    "from nv_center_symmetry_explorer_fundamentals import create_symmetry_explorer\n",
    "\n",
    "# Create and display the interactive symmetry explorer\n",
    "symmetry_explorer = create_symmetry_explorer()"
   ]
  },
  {
   "cell_type": "markdown",
   "id": "f38a4b4d",
   "metadata": {},
   "source": [
    "### Counting Electrons: The Famous \"Six\"\n",
    "\n",
    "#### Why Six Electrons Matter\n",
    "\n",
    "This is crucial - if you can't trace these six electrons, nothing else will make sense:\n",
    "\n",
    "#### Electron Inventory\n",
    "\n",
    "1. **Nitrogen brings 5 valence electrons**\n",
    "   - Three form $\\sigma$-bonds to surrounding carbons\n",
    "   - **2 remain** in lone-pair-like orbital toward vacancy\n",
    "\n",
    "2. **Three vacancy carbons each contribute 1 dangling-bond electron → 3 more**\n",
    "\n",
    "3. **Extra charge in NV$^-$**\n",
    "   - Additional electron captured from lattice\n",
    "   - Total: 5 + 3 + 1 = 9 electrons around the site\n",
    "   - But 3 are tied up in $\\sigma$ bonds with nitrogen\n",
    "   - **Only 6 electrons in gap orbitals that matter**\n",
    "\n",
    "#### The Six-Electron Model Foundation\n",
    "\n",
    "This \"six-electron model\" is the foundation of all modern NV$^-$ descriptions. These six electrons will occupy the molecular orbitals we derive in the next section."
   ]
  },
  {
   "cell_type": "markdown",
   "id": "ed8dc6de",
   "metadata": {},
   "source": [
    "## Step 1: Molecular Orbitals from Symmetry\n",
    "\n",
    "### Goal\n",
    "Starting from atomic dangling bonds, systematically obtain the three independent single-electron orbitals that will hold our six electrons.\n",
    "\n",
    "### The $C_{3v}$ Character Table\n",
    "\n",
    "| $C_{3v}$ | E | $2C_3$ | $3\\sigma_v$ | Typical basis |\n",
    "|----------|---|--------|-------------|---------------|\n",
    "| $A_1$    | 1 | 1      | 1           | z, $x^2+y^2$  |\n",
    "| $A_2$    | 1 | 1      | -1          | $R_z$         |\n",
    "| E        | 2 | -1     | 0           | $(x,y)$, $(R_x,R_y)$ |\n",
    "\n",
    "### Starting Basis: Four Dangling-Bond Orbitals\n",
    "\n",
    "| Orbital | Atom | Direction |\n",
    "|---------|------|----------|\n",
    "| n | N lone-pair $sp^3$ | along +z (toward vacancy) |\n",
    "| $c_1, c_2, c_3$ | $sp^3$ of each C | tilted ~109° toward vacancy |"
   ]
  },
  {
   "cell_type": "code",
   "execution_count": 28,
   "id": "1f14516e",
   "metadata": {},
   "outputs": [
    {
     "data": {
      "text/markdown": [
       "### C₃ᵥ Character Table:"
      ],
      "text/plain": [
       "<IPython.core.display.Markdown object>"
      ]
     },
     "metadata": {},
     "output_type": "display_data"
    },
    {
     "data": {
      "text/html": [
       "<div>\n",
       "<style scoped>\n",
       "    .dataframe tbody tr th:only-of-type {\n",
       "        vertical-align: middle;\n",
       "    }\n",
       "\n",
       "    .dataframe tbody tr th {\n",
       "        vertical-align: top;\n",
       "    }\n",
       "\n",
       "    .dataframe thead th {\n",
       "        text-align: right;\n",
       "    }\n",
       "</style>\n",
       "<table border=\"1\" class=\"dataframe\">\n",
       "  <thead>\n",
       "    <tr style=\"text-align: right;\">\n",
       "      <th></th>\n",
       "      <th>Irrep</th>\n",
       "      <th>E</th>\n",
       "      <th>2C₃</th>\n",
       "      <th>3σᵥ</th>\n",
       "    </tr>\n",
       "  </thead>\n",
       "  <tbody>\n",
       "    <tr>\n",
       "      <th>0</th>\n",
       "      <td>A₁</td>\n",
       "      <td>1</td>\n",
       "      <td>1</td>\n",
       "      <td>1</td>\n",
       "    </tr>\n",
       "    <tr>\n",
       "      <th>1</th>\n",
       "      <td>A₂</td>\n",
       "      <td>1</td>\n",
       "      <td>1</td>\n",
       "      <td>-1</td>\n",
       "    </tr>\n",
       "    <tr>\n",
       "      <th>2</th>\n",
       "      <td>E</td>\n",
       "      <td>2</td>\n",
       "      <td>-1</td>\n",
       "      <td>0</td>\n",
       "    </tr>\n",
       "  </tbody>\n",
       "</table>\n",
       "</div>"
      ],
      "text/plain": [
       "  Irrep  E  2C₃  3σᵥ\n",
       "0    A₁  1    1    1\n",
       "1    A₂  1    1   -1\n",
       "2     E  2   -1    0"
      ]
     },
     "metadata": {},
     "output_type": "display_data"
    },
    {
     "data": {
      "text/markdown": [
       "\n",
       "### Reducible representation analysis:"
      ],
      "text/plain": [
       "<IPython.core.display.Markdown object>"
      ]
     },
     "metadata": {},
     "output_type": "display_data"
    },
    {
     "data": {
      "text/markdown": [
       "Four dangling-bond orbitals under C₃ᵥ operations:"
      ],
      "text/plain": [
       "<IPython.core.display.Markdown object>"
      ]
     },
     "metadata": {},
     "output_type": "display_data"
    },
    {
     "data": {
      "text/html": [
       "<div>\n",
       "<style scoped>\n",
       "    .dataframe tbody tr th:only-of-type {\n",
       "        vertical-align: middle;\n",
       "    }\n",
       "\n",
       "    .dataframe tbody tr th {\n",
       "        vertical-align: top;\n",
       "    }\n",
       "\n",
       "    .dataframe thead th {\n",
       "        text-align: right;\n",
       "    }\n",
       "</style>\n",
       "<table border=\"1\" class=\"dataframe\">\n",
       "  <thead>\n",
       "    <tr style=\"text-align: right;\">\n",
       "      <th></th>\n",
       "      <th>Operation</th>\n",
       "      <th>Unchanged orbitals</th>\n",
       "      <th>Multiplicity</th>\n",
       "      <th>Character χ(Γ)</th>\n",
       "    </tr>\n",
       "  </thead>\n",
       "  <tbody>\n",
       "    <tr>\n",
       "      <th>0</th>\n",
       "      <td>E</td>\n",
       "      <td>4</td>\n",
       "      <td>1</td>\n",
       "      <td>4</td>\n",
       "    </tr>\n",
       "    <tr>\n",
       "      <th>1</th>\n",
       "      <td>C₃</td>\n",
       "      <td>1</td>\n",
       "      <td>2</td>\n",
       "      <td>1</td>\n",
       "    </tr>\n",
       "    <tr>\n",
       "      <th>2</th>\n",
       "      <td>σᵥ</td>\n",
       "      <td>2</td>\n",
       "      <td>3</td>\n",
       "      <td>2</td>\n",
       "    </tr>\n",
       "  </tbody>\n",
       "</table>\n",
       "</div>"
      ],
      "text/plain": [
       "  Operation  Unchanged orbitals  Multiplicity  Character χ(Γ)\n",
       "0         E                   4             1               4\n",
       "1        C₃                   1             2               1\n",
       "2        σᵥ                   2             3               2"
      ]
     },
     "metadata": {},
     "output_type": "display_data"
    },
    {
     "data": {
      "text/markdown": [
       "\n",
       "### Decomposition:"
      ],
      "text/plain": [
       "<IPython.core.display.Markdown object>"
      ]
     },
     "metadata": {},
     "output_type": "display_data"
    },
    {
     "data": {
      "text/latex": [
       "$\\displaystyle \\Gamma = 2A_1 \\oplus 0A_2 \\oplus 1E$"
      ],
      "text/plain": [
       "<IPython.core.display.Math object>"
      ]
     },
     "metadata": {},
     "output_type": "display_data"
    },
    {
     "data": {
      "text/markdown": [
       "**Result**: $2A_1 \\oplus E$ ($A_2$ does not appear)"
      ],
      "text/plain": [
       "<IPython.core.display.Markdown object>"
      ]
     },
     "metadata": {},
     "output_type": "display_data"
    },
    {
     "data": {
      "text/markdown": [
       "\n",
       "### This gives us exactly three molecular orbitals:"
      ],
      "text/plain": [
       "<IPython.core.display.Markdown object>"
      ]
     },
     "metadata": {},
     "output_type": "display_data"
    },
    {
     "data": {
      "text/markdown": [
       "- $a_1(1)$: deep, N-dominated"
      ],
      "text/plain": [
       "<IPython.core.display.Markdown object>"
      ]
     },
     "metadata": {},
     "output_type": "display_data"
    },
    {
     "data": {
      "text/markdown": [
       "- $a_1(2)$: gap state, more C-like"
      ],
      "text/plain": [
       "<IPython.core.display.Markdown object>"
      ]
     },
     "metadata": {},
     "output_type": "display_data"
    },
    {
     "data": {
      "text/markdown": [
       "- $e$ (doubly degenerate): pure C character"
      ],
      "text/plain": [
       "<IPython.core.display.Markdown object>"
      ]
     },
     "metadata": {},
     "output_type": "display_data"
    }
   ],
   "source": [
    "# Group theory analysis for orbital symmetry\n",
    "import pandas as pd\n",
    "from IPython.display import display, Markdown, Math\n",
    "\n",
    "# C3v character table\n",
    "char_table = pd.DataFrame({\n",
    "    'Irrep': ['A₁', 'A₂', 'E'],\n",
    "    'E': [1, 1, 2],\n",
    "    '2C₃': [1, 1, -1],\n",
    "    '3σᵥ': [1, -1, 0]\n",
    "})\n",
    "\n",
    "display(Markdown(\"### C₃ᵥ Character Table:\"))\n",
    "display(char_table)\n",
    "\n",
    "# Calculate the reducible representation for 4 dangling bonds\n",
    "display(Markdown(\"\\n### Reducible representation analysis:\"))\n",
    "display(Markdown(\"Four dangling-bond orbitals under C₃ᵥ operations:\"))\n",
    "\n",
    "# Count unchanged orbitals under each operation\n",
    "operations = ['E', 'C₃', 'σᵥ']\n",
    "unchanged = [4, 1, 2]  # E: all 4, C₃: only N, σᵥ: N + 1 C in plane\n",
    "multiplicities = [1, 2, 3]  # number of operations in each class\n",
    "\n",
    "reducible_rep = pd.DataFrame({\n",
    "    'Operation': operations,\n",
    "    'Unchanged orbitals': unchanged,\n",
    "    'Multiplicity': multiplicities,\n",
    "    'Character χ(Γ)': unchanged\n",
    "})\n",
    "\n",
    "display(reducible_rep)\n",
    "\n",
    "# Decompose into irreducible representations\n",
    "h = 6  # order of group\n",
    "n_A1 = (1*4*1 + 1*1*2 + 1*2*3) / h\n",
    "n_A2 = (1*4*1 + 1*1*2 + (-1)*2*3) / h\n",
    "n_E = (2*4*1 + (-1)*1*2 + 0*2*3) / h\n",
    "\n",
    "display(Markdown(f\"\\n### Decomposition:\"))\n",
    "display(Math(f\"\\\\Gamma = {n_A1:.0f}A_1 \\\\oplus {n_A2:.0f}A_2 \\\\oplus {n_E:.0f}E\"))\n",
    "display(Markdown(f\"**Result**: $2A_1 \\\\oplus E$ ($A_2$ does not appear)\"))\n",
    "\n",
    "display(Markdown(\"\\n### This gives us exactly three molecular orbitals:\"))\n",
    "display(Markdown(\"- $a_1(1)$: deep, N-dominated\"))\n",
    "display(Markdown(\"- $a_1(2)$: gap state, more C-like\")) \n",
    "display(Markdown(\"- $e$ (doubly degenerate): pure C character\"))"
   ]
  },
  {
   "cell_type": "markdown",
   "id": "8bf77d3e",
   "metadata": {},
   "source": [
    "### Symmetry-Adapted Linear Combinations (SALCs)\n",
    "\n",
    "The actual molecular orbitals are formed by taking linear combinations of the atomic orbitals:\n",
    "\n",
    "| SALC | Mathematical form | Physical picture |\n",
    "|------|------------------|------------------|\n",
    "| **$a_1(1)$** | $n + \\frac{1}{\\sqrt{3}}(c_1+c_2+c_3)$ | In-phase sum; biggest weight on N → **deep core-like** |\n",
    "| **$a_1(2)$** | $-\\frac{1}{\\sqrt{3}}n + (c_1+c_2+c_3)$ | Antibonding wrt N; node between N and C → **gap state** |\n",
    "| **$e_x$** | $c_1 - \\frac{1}{2}(c_2+c_3)$ | Pure carbon character |\n",
    "| **$e_y$** | $\\frac{\\sqrt{3}}{2}(c_2-c_3)$ | Pure carbon character |\n",
    "\n",
    "### Energy Ordering\n",
    "\n",
    "Because nitrogen is more electronegative than carbon:\n",
    "- **$a_1(1)$** (largest N coefficient) drops deepest (~1-2 eV below valence band)\n",
    "- **$a_1(2)$** sits higher in the band gap  \n",
    "- **$e$** orbitals (no N contribution) just above $a_1(2)$, still in gap\n",
    "- DFT calculations: e-to-$a_1(2)$ splitting ~0.2-0.3 eV"
   ]
  },
  {
   "cell_type": "code",
   "execution_count": 29,
   "id": "a1cfd2b4",
   "metadata": {},
   "outputs": [
    {
     "data": {
      "image/png": "[encoded data removed]",
      "text/plain": [
       "<Figure size 1500x800 with 2 Axes>"
      ]
     },
     "metadata": {},
     "output_type": "display_data"
    },
    {
     "data": {
      "text/markdown": [
       "\n",
       "### Key Results from Step 1:"
      ],
      "text/plain": [
       "<IPython.core.display.Markdown object>"
      ]
     },
     "metadata": {},
     "output_type": "display_data"
    },
    {
     "data": {
      "text/markdown": [
       "- Four dangling bonds → $2A_1 \\oplus E$ molecular orbitals"
      ],
      "text/plain": [
       "<IPython.core.display.Markdown object>"
      ]
     },
     "metadata": {},
     "output_type": "display_data"
    },
    {
     "data": {
      "text/markdown": [
       "- $a_1(1)$: deep, N-dominated (−2.5 eV)"
      ],
      "text/plain": [
       "<IPython.core.display.Markdown object>"
      ]
     },
     "metadata": {},
     "output_type": "display_data"
    },
    {
     "data": {
      "text/markdown": [
       "- $a_1(2)$: gap state (+0.5 eV)"
      ],
      "text/plain": [
       "<IPython.core.display.Markdown object>"
      ]
     },
     "metadata": {},
     "output_type": "display_data"
    },
    {
     "data": {
      "text/markdown": [
       "- $e$: doubly degenerate, C-dominated (+0.8 eV)"
      ],
      "text/plain": [
       "<IPython.core.display.Markdown object>"
      ]
     },
     "metadata": {},
     "output_type": "display_data"
    },
    {
     "data": {
      "text/markdown": [
       "- **Ground configuration**: $a_1(1)^2 a_1(2)^2 e^2$"
      ],
      "text/plain": [
       "<IPython.core.display.Markdown object>"
      ]
     },
     "metadata": {},
     "output_type": "display_data"
    }
   ],
   "source": [
    "# Visualize the molecular orbital energy levels\n",
    "import matplotlib.pyplot as plt\n",
    "\n",
    "fig, (ax1, ax2) = plt.subplots(1, 2, figsize=(15, 8))\n",
    "\n",
    "# Left plot: Orbital formation scheme\n",
    "# Atomic orbitals on left, molecular orbitals on right\n",
    "atomic_levels = [-1, -1, -1, 0]  # c1, c2, c3, n (relative energies)\n",
    "mo_levels = [-2.5, 0.5, 0.8, 0.8]  # a1(1), a1(2), ex, ey\n",
    "mo_labels = ['$a_1(1)$', '$a_1(2)$', '$e_x$', '$e_y$']\n",
    "mo_colors = ['blue', 'green', 'red', 'red']\n",
    "\n",
    "# Draw atomic orbitals\n",
    "for i, level in enumerate(atomic_levels):\n",
    "    ax1.hlines(level, 0, 1, colors='gray', linewidth=3)\n",
    "    if i < 3:\n",
    "        ax1.text(0.5, level + 0.1, f'$c_{i+1}$', ha='center', fontsize=10)\n",
    "    else:\n",
    "        ax1.text(0.5, level + 0.1, 'n', ha='center', fontsize=10)\n",
    "\n",
    "# Draw molecular orbitals\n",
    "for i, (level, label, color) in enumerate(zip(mo_levels, mo_labels, mo_colors)):\n",
    "    ax1.hlines(level, 3, 4, colors=color, linewidth=3)\n",
    "    ax1.text(3.5, level + 0.1, label, ha='center', fontsize=10, color=color)\n",
    "\n",
    "# Draw mixing lines\n",
    "# a1(1): all orbitals contribute\n",
    "for atomic_level in atomic_levels:\n",
    "    ax1.plot([1, 3], [atomic_level, mo_levels[0]], 'b--', alpha=0.5)\n",
    "\n",
    "# a1(2): all orbitals contribute (different phase)\n",
    "for atomic_level in atomic_levels:\n",
    "    ax1.plot([1, 3], [atomic_level, mo_levels[1]], 'g--', alpha=0.5)\n",
    "\n",
    "# e orbitals: only carbon contributions\n",
    "for i in range(3):\n",
    "    ax1.plot([1, 3], [atomic_levels[i], mo_levels[2]], 'r--', alpha=0.3)\n",
    "    ax1.plot([1, 3], [atomic_levels[i], mo_levels[3]], 'r--', alpha=0.3)\n",
    "\n",
    "ax1.set_xlim(-0.5, 4.5)\n",
    "ax1.set_ylim(-3, 2)\n",
    "ax1.set_ylabel('Energy (eV)')\n",
    "ax1.set_title('Molecular Orbital Formation')\n",
    "ax1.set_xticks([0.5, 3.5])\n",
    "ax1.set_xticklabels(['Atomic\\nOrbitals', 'Molecular\\nOrbitals'])\n",
    "ax1.grid(True, alpha=0.3)\n",
    "\n",
    "# Right plot: Electron filling\n",
    "# Show how 6 electrons fill the MOs\n",
    "energy_levels = [0.8, 0.8, 0.5, -2.5]  # ex, ey, a1(2), a1(1)\n",
    "level_labels = ['$e_y$', '$e_x$', '$a_1(2)$', '$a_1(1)$']\n",
    "degeneracies = [1, 1, 1, 1]\n",
    "occupations = [1, 1, 2, 2]  # electrons in each orbital\n",
    "\n",
    "y_positions = [3, 3, 2, 1]  # vertical positions for drawing\n",
    "\n",
    "for i, (energy, label, occ, y_pos) in enumerate(zip(energy_levels, level_labels, occupations, y_positions)):\n",
    "    # Draw orbital line\n",
    "    ax2.hlines(y_pos, 0, 2, colors='black', linewidth=2)\n",
    "    ax2.text(2.2, y_pos, label, va='center', fontsize=12)\n",
    "    \n",
    "    # Draw electrons as arrows\n",
    "    if occ >= 1:\n",
    "        ax2.arrow(0.5, y_pos, 0, 0.2, head_width=0.05, head_length=0.05, fc='blue', ec='blue')\n",
    "    if occ == 2:\n",
    "        ax2.arrow(1.5, y_pos, 0, -0.2, head_width=0.05, head_length=0.05, fc='red', ec='red')\n",
    "    elif occ == 1 and i < 2:  # e orbitals with single electrons\n",
    "        ax2.arrow(1.0, y_pos, 0, 0.2, head_width=0.05, head_length=0.05, fc='blue', ec='blue')\n",
    "\n",
    "# Add electron count\n",
    "ax2.text(0.5, 0.5, 'Total: 6 electrons', fontsize=14, bbox=dict(boxstyle='round', facecolor='yellow', alpha=0.7))\n",
    "ax2.text(0.5, 0.2, 'Configuration: $a_1(1)^2 a_1(2)^2 e^2$', fontsize=12, style='italic')\n",
    "\n",
    "ax2.set_xlim(-0.5, 3.5)\n",
    "ax2.set_ylim(0, 4)\n",
    "ax2.set_ylabel('Energy')\n",
    "ax2.set_title('Electron Configuration of NV$^-$')\n",
    "ax2.set_xticks([])\n",
    "ax2.grid(True, alpha=0.3)\n",
    "\n",
    "plt.tight_layout()\n",
    "plt.show()\n",
    "\n",
    "# Use proper LaTeX rendering for output\n",
    "from IPython.display import display, Markdown, Math\n",
    "\n",
    "display(Markdown(\"\\n### Key Results from Step 1:\"))\n",
    "display(Markdown(\"- Four dangling bonds → $2A_1 \\\\oplus E$ molecular orbitals\"))\n",
    "display(Markdown(\"- $a_1(1)$: deep, N-dominated (−2.5 eV)\"))\n",
    "display(Markdown(\"- $a_1(2)$: gap state (+0.5 eV)\"))\n",
    "display(Markdown(\"- $e$: doubly degenerate, C-dominated (+0.8 eV)\"))\n",
    "display(Markdown(\"- **Ground configuration**: $a_1(1)^2 a_1(2)^2 e^2$\"))"
   ]
  },
  {
   "cell_type": "markdown",
   "id": "11c07654",
   "metadata": {},
   "source": [
    "## Summary and Checkpoint\n",
    "\n",
    "### What we have established:\n",
    "\n",
    "1. **Geometry**: NV$^-$ has $C_{3v}$ symmetry with the z-axis along N→V\n",
    "2. **Electrons**: Exactly 6 electrons occupy the defect gap orbitals\n",
    "3. **Molecular orbitals**: Three sets from group theory:\n",
    "   - $a_1(1)$: deep, doubly occupied\n",
    "   - $a_1(2)$: gap state, doubly occupied  \n",
    "   - $e$: doubly degenerate, singly occupied (2 electrons total)\n",
    "4. **Ground configuration**: $a_1(1)^2 a_1(2)^2 e^2$\n",
    "\n",
    "### Critical understanding check:\n",
    "\n",
    "✅ Can you trace the six electrons back to their atomic origins?\n",
    "\n",
    "✅ Do you understand why $C_{3v}$ symmetry gives $2A_1 \\oplus E$ orbitals?\n",
    "\n",
    "✅ Can you explain why $a_1(1)$ is deepest and $e$ is highest?\n",
    "\n",
    "**Next**: In the next notebook, we'll see how the open $e^2$ shell leads to the famous $^3A_2$ ground state triplet through application of Hund's rules and group theory."
   ]
  },
  {
   "cell_type": "markdown",
   "id": "a3bd8f96",
   "metadata": {},
   "source": [
    "## References and Sources\n",
    "\n",
    "### Key Scientific Literature\n",
    "\n",
    "1. **Doherty, M. W. et al.** (2013). *The nitrogen-vacancy colour centre in diamond*. Physics Reports, 528(1), 1-45.\n",
    "   - Comprehensive review of NV center physics and applications\n",
    "   - [DOI: 10.1016/j.physrep.2013.02.001](https://doi.org/10.1016/j.physrep.2013.02.001)\n",
    "\n",
    "2. **Maze, J. R. et al.** (2008). *Properties of nitrogen-vacancy centers in diamond: the group theoretic approach*. New Journal of Physics, 10(4), 045004.\n",
    "   - Detailed group theory analysis of NV center electronic structure\n",
    "   - [DOI: 10.1088/1367-2630/10/4/045004](https://doi.org/10.1088/1367-2630/10/4/045004)\n",
    "\n",
    "3. **Gali, A.** (2019). *Recent advances in the ab initio theory of solid defects*. npj Computational Materials, 5(1), 1-12.\n",
    "   - Modern computational approaches to defect physics\n",
    "   - [DOI: 10.1038/s41524-019-0147-y](https://doi.org/10.1038/s41524-019-0147-y)\n",
    "\n",
    "4. **Manson, N. B. & Harrison, J. P.** (2005). *Photo-ionization of the nitrogen-vacancy center in diamond*. Diamond and Related Materials, 14(10), 1705-1710.\n",
    "   - Experimental characterization of NV center energy levels\n",
    "   - [DOI: 10.1016/j.diamond.2005.06.027](https://doi.org/10.1016/j.diamond.2005.06.027)\n",
    "\n",
    "### Theoretical Background\n",
    "\n",
    "5. **Tinkham, M.** (1964). *Group Theory and Quantum Mechanics*. McGraw-Hill.\n",
    "   - Classical reference for group theory applications in solid state physics\n",
    "\n",
    "6. **Cotton, F. A.** (1990). *Chemical Applications of Group Theory*. 3rd Edition, Wiley.\n",
    "   - Molecular orbital theory and symmetry-adapted linear combinations\n",
    "\n",
    "7. **Atkins, P. W. & Friedman, R. S.** (2010). *Molecular Quantum Mechanics*. 5th Edition, Oxford University Press.\n",
    "   - Term symbols and many-electron configurations\n",
    "\n",
    "### Computational Resources\n",
    "\n",
    "8. **Alkauskas, A. et al.** (2014). *First-principles theory of the luminescence lineshape for the triplet transition in diamond NV centres*. New Journal of Physics, 16(7), 073026.\n",
    "   - Ab initio calculations of NV center properties\n",
    "   - [DOI: 10.1088/1367-2630/16/7/073026](https://doi.org/10.1088/1367-2630/16/7/073026)\n",
    "\n",
    "9. **Delaney, P. et al.** (2002). *Identification of the NV center in diamond through its response to electric fields*. Applied Physics Letters, 84(22), 4649-4651.\n",
    "   - DFT calculations and experimental validation\n",
    "   - [DOI: 10.1063/1.1759370](https://doi.org/10.1063/1.1759370)\n",
    "\n",
    "### Educational Resources\n",
    "\n",
    "10. **Wrachtrup, J. & Jelezko, F.** (2006). *Processing quantum information in diamond*. Journal of Physics: Condensed Matter, 18(21), S807-S824.\n",
    "    - Pedagogical introduction to NV center physics\n",
    "    - [DOI: 10.1088/0953-8984/18/21/S08](https://doi.org/10.1088/0953-8984/18/21/S08)\n",
    "\n",
    "### Online Resources\n",
    "\n",
    "- **Harvard Quantum Optics Group**: [https://www.physics.harvard.edu/research/quantum-optics](https://www.physics.harvard.edu/research/quantum-optics)\n",
    "- **MIT Center for Quantum Engineering**: [https://cqe.mit.edu/](https://cqe.mit.edu/)\n",
    "- **NIST Diamond NV Center Database**: [https://www.nist.gov/pml/sensor-science/quantum-sensors](https://www.nist.gov/pml/sensor-science/quantum-sensors)\n",
    "\n",
    "### Acknowledgments\n",
    "\n",
    "This notebook synthesizes knowledge from the broader NV center research community. Special recognition goes to the pioneering work of:\n",
    "- Neil Manson and John Harrison (Australian National University)\n",
    "- Jörg Wrachtrup (University of Stuttgart)  \n",
    "- Mikhail Lukin (Harvard University)\n",
    "- Ronald Walsworth (formerly Harvard, now University of Maryland)\n",
    "- Adam Gali (Wigner Research Centre for Physics)"
   ]
  }
 ],
 "metadata": {
  "kernelspec": {
   "display_name": "310IA",
   "language": "python",
   "name": "python3"
  },
  "language_info": {
   "codemirror_mode": {
    "name": "ipython",
    "version": 3
   },
   "file_extension": ".py",
   "mimetype": "text/x-python",
   "name": "python",
   "nbconvert_exporter": "python",
   "pygments_lexer": "ipython3",
   "version": "3.10.15"
  }
 },
 "nbformat": 4,
 "nbformat_minor": 5
}
