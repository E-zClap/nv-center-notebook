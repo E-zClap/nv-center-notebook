{
 "cells": [
  {
   "cell_type": "markdown",
   "id": "cfeae747",
   "metadata": {},
   "source": [
    "# NV Center Energy‑Level Diagram\n",
    "This notebook explains the energy‑level structure of the negatively‑charged nitrogen–vacancy (NV⁻) center in diamond using the diagram below."
   ]
  },
  {
   "cell_type": "markdown",
   "id": "c5483efe",
   "metadata": {},
   "source": [
    "## Energy‑level diagram\n",
    "![NV energy levels](nv_levels.png)"
   ]
  },
  {
   "cell_type": "markdown",
   "id": "1312edce",
   "metadata": {},
   "source": [
    "### 1  A three‑storey building analogy\n",
    "Think of the NV center as a **tiny three‑storey building for one electron** inside a diamond:\n",
    "* Each “floor” is an energy level.\n",
    "* The coloured arrows are elevators driven by light (green/red/IR) or microwaves.\n",
    "* The diagram labels the floors with spectroscopic notation (³A₂, ³E, ¹A₁, ¹E).\n"
   ]
  },
  {
   "cell_type": "markdown",
   "id": "4ee2e0d2",
   "metadata": {},
   "source": [
    "### 2  Meet the three main floors\n",
    "\n",
    "| Floor label | Physical meaning | Super‑short description |\n",
    "|-------------|------------------|-------------------------|\n",
    "| **³A₂** | Ground *triplet* state | Resting place; spin can be $m_s = 0,\\,\\pm1$. |\n",
    "| **³E** | Excited *triplet* | Reached with green light; quickly decays and emits red photons. |\n",
    "| **¹A₁ → ¹E** | Intermediate *singlet* tunnel | Dark pathway; enables spin‑selective decay. |\n"
   ]
  },
  {
   "cell_type": "markdown",
   "id": "ea0d4b5e",
   "metadata": {},
   "source": [
    "### 3  Optical transitions (arrows)\n",
    "* **Green pump (532 nm)** — excites the electron **³A₂ → ³E**.\n",
    "* **Red fluorescence (637 nm)** — the electron falls **³E → ³A₂**, emitting a red photon you detect.\n",
    "* **Infra‑red (1042 nm)** — a dim photon emitted along the singlet tunnel **³E → ¹A₁ → ¹E → ³A₂**.\n",
    "\n",
    "The singlet pathway drains population from $m_s = \\pm1$ more than from $m_s = 0$, causing a *brightness contrast* that lets you read out the spin optically."
   ]
  },
  {
   "cell_type": "markdown",
   "id": "0f859342",
   "metadata": {},
   "source": [
    "### 4  Zoom‑in on the ground triplet (yellow inset)\n",
    "* The $m_s = \\pm1$ sub‑levels sit **2.87 GHz** above $m_s = 0$ — the *zero‑field splitting*.\n",
    "* A microwave at 2.87 GHz (purple arrow) flips between $m_s = 0$ and $m_s = \\pm1$.\n",
    "* An external magnetic field (blue arrow) shifts $m_s = +1$ and $m_s = -1$ in opposite directions; the shift size encodes the magnetic field, which is the basis of NV magnetometry."
   ]
  },
  {
   "cell_type": "markdown",
   "id": "147a3b77",
   "metadata": {},
   "source": [
    "### 5  Typical experimental cycle\n",
    "1. **Pump** with green laser → population to ³E.\n",
    "2. **Relax** back to ³A₂ via either direct (bright red) or singlet (dark) path — probability depends on the spin state.\n",
    "3. **Read** the red brightness to infer whether the spin was in $m_s = 0$ (bright) or $m_s = \\pm1$ (dim).\n",
    "4. **Manipulate** the spin with microwaves while applying magnetic / electric / strain fields of interest.\n",
    "5. Repeat — you now have a nanoscale quantum sensor!"
   ]
  },
  {
   "cell_type": "markdown",
   "id": "d905d3aa",
   "metadata": {},
   "source": [
    "---\n",
    "**Key references & further reading**\n",
    "1. Doherty *et al.*, *Phys. Rep.* **528**, 1–45 (2013) — comprehensive review of NV center physics.\n",
    "2. Maze, Taylor & Lukin, *Nature Physics* **2**, 408–413 (2006) — foundational NV magnetometry paper.\n",
    "3. Childress & Hanson, *MRS Bulletin* **38**, 134–138 (2013) — concise tutorial on NV energy levels."
   ]
  }
 ],
 "metadata": {},
 "nbformat": 4,
 "nbformat_minor": 5
}
